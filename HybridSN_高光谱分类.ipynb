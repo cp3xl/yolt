{
  "nbformat": 4,
  "nbformat_minor": 0,
  "metadata": {
    "colab": {
      "provenance": [],
      "toc_visible": true,
      "include_colab_link": true
    },
    "kernelspec": {
      "name": "python3",
      "display_name": "Python 3"
    },
    "accelerator": "GPU"
  },
  "cells": [
    {
      "cell_type": "markdown",
      "metadata": {
        "id": "view-in-github",
        "colab_type": "text"
      },
      "source": [
        "<a href=\"https://colab.research.google.com/github/cp3xl/yolt/blob/master/HybridSN_%E9%AB%98%E5%85%89%E8%B0%B1%E5%88%86%E7%B1%BB.ipynb\" target=\"_parent\"><img src=\"https://colab.research.google.com/assets/colab-badge.svg\" alt=\"Open In Colab\"/></a>"
      ]
    },
    {
      "cell_type": "code",
      "metadata": {
        "id": "y-BW1ePps2N0"
      },
      "source": [],
      "execution_count": null,
      "outputs": []
    },
    {
      "cell_type": "markdown",
      "metadata": {
        "id": "-D-KJpdis6Yb"
      },
      "source": [
        "# HybridSN 高光谱分类"
      ]
    },
    {
      "cell_type": "markdown",
      "metadata": {
        "id": "3dXmM09ZtBvM"
      },
      "source": [
        "\n",
        "首先取得数据，并引入基本函数库。"
      ]
    },
    {
      "cell_type": "code",
      "metadata": {
        "colab": {
          "base_uri": "https://localhost:8080/"
        },
        "id": "xs7sa-Pp_SZm",
        "outputId": "3aa289ce-5265-4ff9-dba5-274607097d5d"
      },
      "source": [
        "! wget http://www.ehu.eus/ccwintco/uploads/6/67/Indian_pines_corrected.mat\n",
        "! wget http://www.ehu.eus/ccwintco/uploads/c/c4/Indian_pines_gt.mat\n",
        "! pip install spectral"
      ],
      "execution_count": null,
      "outputs": [
        {
          "output_type": "stream",
          "text": [
            "--2021-01-04 07:18:20--  http://www.ehu.eus/ccwintco/uploads/6/67/Indian_pines_corrected.mat\n",
            "Resolving www.ehu.eus (www.ehu.eus)... 158.227.0.65, 2001:720:1410::65\n",
            "Connecting to www.ehu.eus (www.ehu.eus)|158.227.0.65|:80... connected.\n",
            "HTTP request sent, awaiting response... 200 OK\n",
            "Length: 5953527 (5.7M)\n",
            "Saving to: ‘Indian_pines_corrected.mat’\n",
            "\n",
            "Indian_pines_correc 100%[===================>]   5.68M   713KB/s    in 9.2s    \n",
            "\n",
            "2021-01-04 07:18:29 (634 KB/s) - ‘Indian_pines_corrected.mat’ saved [5953527/5953527]\n",
            "\n",
            "--2021-01-04 07:18:29--  http://www.ehu.eus/ccwintco/uploads/c/c4/Indian_pines_gt.mat\n",
            "Resolving www.ehu.eus (www.ehu.eus)... 158.227.0.65, 2001:720:1410::65\n",
            "Connecting to www.ehu.eus (www.ehu.eus)|158.227.0.65|:80... connected.\n",
            "HTTP request sent, awaiting response... 200 OK\n",
            "Length: 1125 (1.1K)\n",
            "Saving to: ‘Indian_pines_gt.mat’\n",
            "\n",
            "Indian_pines_gt.mat 100%[===================>]   1.10K  --.-KB/s    in 0s      \n",
            "\n",
            "2021-01-04 07:18:30 (168 MB/s) - ‘Indian_pines_gt.mat’ saved [1125/1125]\n",
            "\n",
            "Collecting spectral\n",
            "\u001b[?25l  Downloading https://files.pythonhosted.org/packages/ce/06/6a89035cde4eac3ed94e1888f850af653386e8ee827edc72ffc8e445bcb7/spectral-0.22.1-py3-none-any.whl (212kB)\n",
            "\u001b[K     |████████████████████████████████| 215kB 7.0MB/s \n",
            "\u001b[?25hRequirement already satisfied: numpy in /usr/local/lib/python3.6/dist-packages (from spectral) (1.19.4)\n",
            "Installing collected packages: spectral\n",
            "Successfully installed spectral-0.22.1\n"
          ],
          "name": "stdout"
        }
      ]
    },
    {
      "cell_type": "markdown",
      "metadata": {
        "id": "gwpwGylUtGgV"
      },
      "source": [
        "## 1 定义HybridSN类"
      ]
    },
    {
      "cell_type": "markdown",
      "metadata": {
        "id": "A8i6itdltM_n"
      },
      "source": [
        "![](https://camo.githubusercontent.com/f7db2d6ed93212a9b4d31c2826e38a2bdd964311/68747470733a2f2f67616f707572737569742e6f73732d636e2d6265696a696e672e616c6979756e63732e636f6d2f3230323030332f32303230303330343230333731302e6a7067)"
      ]
    },
    {
      "cell_type": "markdown",
      "metadata": {
        "id": "DgnCFNSctWY0"
      },
      "source": [
        "三维卷积部分：\n",
        "\n",
        "conv1：（1, 30, 25, 25）， 8个 7x3x3 的卷积核 ==>（8, 24, 23, 23）\n",
        "conv2：（8, 24, 23, 23）， 16个 5x3x3 的卷积核 ==>（16, 20, 21, 21）\n",
        "conv3：（16, 20, 21, 21），32个 3x3x3 的卷积核 ==>（32, 18, 19, 19）\n",
        "接下来要进行二维卷积，因此把前面的 32*18 reshape 一下，得到 （576, 19, 19）\n",
        "\n",
        "二维卷积：（576, 19, 19） 64个 3x3 的卷积核，得到 （64, 17, 17）\n",
        "\n",
        "接下来是一个 flatten 操作，变为 18496 维的向量，\n",
        "\n",
        "接下来依次为256，128节点的全连接层，都使用比例为0.4的 Dropout，\n",
        "\n",
        "最后输出为 16 个节点，是最终的分类类别数。\n",
        "\n",
        "下面是 HybridSN 类的代码："
      ]
    },
    {
      "cell_type": "code",
      "metadata": {
        "id": "QB1xA8Pe_9YN"
      },
      "source": [
        "import numpy as np\n",
        "import matplotlib.pyplot as plt\n",
        "import scipy.io as sio\n",
        "from sklearn.decomposition import PCA\n",
        "from sklearn.model_selection import train_test_split\n",
        "from sklearn.metrics import confusion_matrix, accuracy_score, classification_report, cohen_kappa_score\n",
        "import spectral\n",
        "import torch\n",
        "import torchvision\n",
        "import torch.nn as nn\n",
        "import torch.nn.functional as F\n",
        "import torch.optim as optim\n",
        "import copy"
      ],
      "execution_count": null,
      "outputs": []
    },
    {
      "cell_type": "code",
      "metadata": {
        "id": "YKVbVI6kFhHJ"
      },
      "source": [
        "class_num = 16\n",
        "\n",
        "class HybridSN(nn.Module):  \n",
        "  def __init__(self, in_channels=1, out_channels=class_num):\n",
        "    super(HybridSN, self).__init__()\n",
        "    self.conv3d_features = nn.Sequential(\n",
        "        nn.Conv3d(in_channels,out_channels=8,kernel_size=(7,3,3)),\n",
        "        nn.ReLU(),\n",
        "        nn.Conv3d(in_channels=8,out_channels=16,kernel_size=(5,3,3)),\n",
        "        nn.ReLU(),\n",
        "        nn.Conv3d(in_channels=16,out_channels=32,kernel_size=(3,3,3)),\n",
        "        nn.ReLU()\n",
        "    )\n",
        "\n",
        "    self.conv2d_features = nn.Sequential(\n",
        "        nn.Conv2d(in_channels=32 * 18, out_channels=64, kernel_size=(3,3)),\n",
        "        nn.ReLU()\n",
        "    )\n",
        "\n",
        "    self.classifier = nn.Sequential(\n",
        "        nn.Linear(64 * 17 * 17, 256),\n",
        "        nn.ReLU(),\n",
        "        nn.Dropout(p=0.4),\n",
        "        nn.Linear(256, 128),\n",
        "        nn.ReLU(),\n",
        "        nn.Dropout(p=0.4),\n",
        "        nn.Linear(128, 16)\n",
        "    )\n",
        " \n",
        "  def forward(self, x):\n",
        "    x = self.conv3d_features(x)\n",
        "    x = x.view(x.size()[0],x.size()[1]*x.size()[2],x.size()[3],x.size()[4])\n",
        "    x = self.conv2d_features(x)\n",
        "    x = x.view(x.size()[0],-1)\n",
        "    x = self.classifier(x)\n",
        "    return x"
      ],
      "execution_count": null,
      "outputs": []
    },
    {
      "cell_type": "code",
      "metadata": {
        "colab": {
          "base_uri": "https://localhost:8080/"
        },
        "id": "9AF8z9NuNTGU",
        "outputId": "aa4ac9fb-33ad-4640-eb4f-31f637e8bb6d"
      },
      "source": [
        "# 随机输入，测试网络结构是否通\n",
        "x = torch.randn(4, 1, 30, 25, 25)\n",
        "net = HybridSN()\n",
        "y = net(x)\n",
        "print(y.shape)"
      ],
      "execution_count": null,
      "outputs": [
        {
          "output_type": "stream",
          "text": [
            "torch.Size([4, 16])\n"
          ],
          "name": "stdout"
        }
      ]
    },
    {
      "cell_type": "markdown",
      "metadata": {
        "id": "JzoAWGcPtqMF"
      },
      "source": [
        "## 2 创建数据集"
      ]
    },
    {
      "cell_type": "markdown",
      "source": [
        "# 新段落"
      ],
      "metadata": {
        "id": "99LIp5wlJZ-6"
      }
    },
    {
      "cell_type": "markdown",
      "metadata": {
        "id": "m-ach8j6tsCV"
      },
      "source": [
        "首先对高光谱数据实施PCA降维；然后创建 keras 方便处理的数据格式；然后随机抽取 10% 数据做为训练集，剩余的做为测试集。\n",
        "\n",
        "首先定义基本函数："
      ]
    },
    {
      "cell_type": "code",
      "metadata": {
        "id": "qTozIhMnNx1x"
      },
      "source": [
        "# 对高光谱数据 X 应用 PCA 变换\n",
        "def applyPCA(X, numComponents):\n",
        "    newX = np.reshape(X, (-1, X.shape[2]))\n",
        "    pca = PCA(n_components=numComponents, whiten=True)\n",
        "    newX = pca.fit_transform(newX)\n",
        "    newX = np.reshape(newX, (X.shape[0], X.shape[1], numComponents))\n",
        "    return newX\n",
        "\n",
        "# 对单个像素周围提取 patch 时，边缘像素就无法取了，因此，给这部分像素进行 padding 操作\n",
        "def padWithZeros(X, margin=2):\n",
        "    newX = np.zeros((X.shape[0] + 2 * margin, X.shape[1] + 2* margin, X.shape[2]))\n",
        "    x_offset = margin\n",
        "    y_offset = margin\n",
        "    newX[x_offset:X.shape[0] + x_offset, y_offset:X.shape[1] + y_offset, :] = X\n",
        "    return newX\n",
        "\n",
        "# 在每个像素周围提取 patch ，然后创建成符合 keras 处理的格式\n",
        "def createImageCubes(X, y, windowSize=5, removeZeroLabels = True):\n",
        "    # 给 X 做 padding\n",
        "    margin = int((windowSize - 1) / 2)\n",
        "    zeroPaddedX = padWithZeros(X, margin=margin)\n",
        "    # split patches\n",
        "    patchesData = np.zeros((X.shape[0] * X.shape[1], windowSize, windowSize, X.shape[2]))\n",
        "    patchesLabels = np.zeros((X.shape[0] * X.shape[1]))\n",
        "    patchIndex = 0\n",
        "    for r in range(margin, zeroPaddedX.shape[0] - margin):\n",
        "        for c in range(margin, zeroPaddedX.shape[1] - margin):\n",
        "            patch = zeroPaddedX[r - margin:r + margin + 1, c - margin:c + margin + 1]   \n",
        "            patchesData[patchIndex, :, :, :] = patch\n",
        "            patchesLabels[patchIndex] = y[r-margin, c-margin]\n",
        "            patchIndex = patchIndex + 1\n",
        "    if removeZeroLabels:\n",
        "        patchesData = patchesData[patchesLabels>0,:,:,:]\n",
        "        patchesLabels = patchesLabels[patchesLabels>0]\n",
        "        patchesLabels -= 1\n",
        "    return patchesData, patchesLabels\n",
        "\n",
        "def splitTrainTestSet(X, y, testRatio, randomState=345):\n",
        "    X_train, X_test, y_train, y_test = train_test_split(X, y, test_size=testRatio, random_state=randomState, stratify=y)\n",
        "    return X_train, X_test, y_train, y_test"
      ],
      "execution_count": null,
      "outputs": []
    },
    {
      "cell_type": "markdown",
      "source": [
        "# 新段落"
      ],
      "metadata": {
        "id": "nOO6visiJV5R"
      }
    },
    {
      "cell_type": "markdown",
      "metadata": {
        "id": "5yrSRq6LtzTd"
      },
      "source": [
        "下面读取并创建数据集："
      ]
    },
    {
      "cell_type": "code",
      "metadata": {
        "colab": {
          "base_uri": "https://localhost:8080/"
        },
        "id": "VKVgjkDyOjv-",
        "outputId": "9be89762-cadd-48c6-fece-aebc2eedd4ab"
      },
      "source": [
        "# 地物类别\n",
        "class_num = 16\n",
        "X = sio.loadmat('Indian_pines_corrected.mat')['indian_pines_corrected']\n",
        "y = sio.loadmat('Indian_pines_gt.mat')['indian_pines_gt']\n",
        "\n",
        "# 用于测试样本的比例\n",
        "test_ratio = 0.90\n",
        "# 每个像素周围提取 patch 的尺寸\n",
        "patch_size = 25\n",
        "# 使用 PCA 降维，得到主成分的数量\n",
        "pca_components = 30\n",
        "\n",
        "print('Hyperspectral data shape: ', X.shape)\n",
        "print('Label shape: ', y.shape)\n",
        "\n",
        "print('\\n... ... PCA tranformation ... ...')\n",
        "X_pca = applyPCA(X, numComponents=pca_components)\n",
        "print('Data shape after PCA: ', X_pca.shape)\n",
        "\n",
        "print('\\n... ... create data cubes ... ...')\n",
        "X_pca, y = createImageCubes(X_pca, y, windowSize=patch_size)\n",
        "print('Data cube X shape: ', X_pca.shape)\n",
        "print('Data cube y shape: ', y.shape)\n",
        "\n",
        "print('\\n... ... create train & test data ... ...')\n",
        "Xtrain, Xtest, ytrain, ytest = splitTrainTestSet(X_pca, y, test_ratio)\n",
        "print('Xtrain shape: ', Xtrain.shape)\n",
        "print('Xtest  shape: ', Xtest.shape)\n",
        "\n",
        "# 改变 Xtrain, Ytrain 的形状，以符合 keras 的要求\n",
        "Xtrain = Xtrain.reshape(-1, patch_size, patch_size, pca_components, 1)\n",
        "Xtest  = Xtest.reshape(-1, patch_size, patch_size, pca_components, 1)\n",
        "print('before transpose: Xtrain shape: ', Xtrain.shape) \n",
        "print('before transpose: Xtest  shape: ', Xtest.shape) \n",
        "\n",
        "# 为了适应 pytorch 结构，数据要做 transpose\n",
        "Xtrain = Xtrain.transpose(0, 4, 3, 1, 2)\n",
        "Xtest  = Xtest.transpose(0, 4, 3, 1, 2)\n",
        "print('after transpose: Xtrain shape: ', Xtrain.shape) \n",
        "print('after transpose: Xtest  shape: ', Xtest.shape) "
      ],
      "execution_count": null,
      "outputs": [
        {
          "output_type": "stream",
          "text": [
            "Hyperspectral data shape:  (145, 145, 200)\n",
            "Label shape:  (145, 145)\n",
            "\n",
            "... ... PCA tranformation ... ...\n",
            "Data shape after PCA:  (145, 145, 30)\n",
            "\n",
            "... ... create data cubes ... ...\n",
            "Data cube X shape:  (10249, 25, 25, 30)\n",
            "Data cube y shape:  (10249,)\n",
            "\n",
            "... ... create train & test data ... ...\n",
            "Xtrain shape:  (1024, 25, 25, 30)\n",
            "Xtest  shape:  (9225, 25, 25, 30)\n",
            "before transpose: Xtrain shape:  (1024, 25, 25, 30, 1)\n",
            "before transpose: Xtest  shape:  (9225, 25, 25, 30, 1)\n",
            "after transpose: Xtrain shape:  (1024, 1, 30, 25, 25)\n",
            "after transpose: Xtest  shape:  (9225, 1, 30, 25, 25)\n"
          ],
          "name": "stdout"
        }
      ]
    },
    {
      "cell_type": "code",
      "metadata": {
        "id": "ovpY575fO6Fl"
      },
      "source": [
        "\"\"\" Training dataset\"\"\"\n",
        "class TrainDS(torch.utils.data.Dataset): \n",
        "    def __init__(self):\n",
        "        self.len = Xtrain.shape[0]\n",
        "        self.x_data = torch.FloatTensor(Xtrain)\n",
        "        self.y_data = torch.LongTensor(ytrain)        \n",
        "    def __getitem__(self, index):\n",
        "        # 根据索引返回数据和对应的标签\n",
        "        return self.x_data[index], self.y_data[index]\n",
        "    def __len__(self): \n",
        "        # 返回文件数据的数目\n",
        "        return self.len\n",
        "\n",
        "\"\"\" Testing dataset\"\"\"\n",
        "class TestDS(torch.utils.data.Dataset): \n",
        "    def __init__(self):\n",
        "        self.len = Xtest.shape[0]\n",
        "        self.x_data = torch.FloatTensor(Xtest)\n",
        "        self.y_data = torch.LongTensor(ytest)\n",
        "    def __getitem__(self, index):\n",
        "        # 根据索引返回数据和对应的标签\n",
        "        return self.x_data[index], self.y_data[index]\n",
        "    def __len__(self): \n",
        "        # 返回文件数据的数目\n",
        "        return self.len\n",
        "\n",
        "# 创建 trainloader 和 testloader\n",
        "trainset = TrainDS()\n",
        "testset  = TestDS()\n",
        "train_loader = torch.utils.data.DataLoader(dataset=trainset, batch_size=128, shuffle=True, num_workers=2)\n",
        "test_loader  = torch.utils.data.DataLoader(dataset=testset,  batch_size=128, shuffle=False, num_workers=2)"
      ],
      "execution_count": null,
      "outputs": []
    },
    {
      "cell_type": "markdown",
      "metadata": {
        "id": "7ufGkuRSt8ld"
      },
      "source": [
        "## 3 开始训练"
      ]
    },
    {
      "cell_type": "code",
      "metadata": {
        "id": "YT67hQonuA-A"
      },
      "source": [
        "def train(net):\n",
        "\n",
        "\n",
        "  current_loss_his = []\n",
        "  current_Acc_his = []\n",
        "\n",
        "  best_net_wts = copy.deepcopy(net.state_dict())\n",
        "  best_acc = 0.0\n",
        "\n",
        "  criterion = nn.CrossEntropyLoss()\n",
        "  optimizer = optim.Adam(net.parameters(), lr=0.001)\n",
        "\n",
        "  # 开始训练\n",
        "  total_loss = 0\n",
        "  for epoch in range(100):\n",
        "      net.train()  # 将模型设置为训练模式\n",
        "      for i, (inputs, labels) in enumerate(train_loader):\n",
        "          inputs = inputs.to(device)\n",
        "          labels = labels.to(device)\n",
        "          # 优化器梯度归零\n",
        "          optimizer.zero_grad()\n",
        "          # 正向传播 +　反向传播 + 优化 \n",
        "          outputs = net(inputs)\n",
        "          loss = criterion(outputs, labels)\n",
        "          loss.backward()\n",
        "          optimizer.step()\n",
        "          total_loss += loss.item()\n",
        "\n",
        "      net.eval()   # 将模型设置为验证模式\n",
        "      current_acc = test_acc(net)\n",
        "      current_Acc_his.append(current_acc)\n",
        "\n",
        "      if current_acc > best_acc:\n",
        "        best_acc = current_acc\n",
        "        best_net_wts = copy.deepcopy(net.state_dict())\n",
        "\n",
        "      print('[Epoch: %d]   [loss avg: %.4f]   [current loss: %.4f]  [current acc: %.4f]' %(epoch + 1, total_loss/(epoch+1), loss.item(), current_acc))\n",
        "      current_loss_his.append(loss.item())\n",
        "\n",
        "  print('Finished Training')\n",
        "  print(\"Best Acc:%.4f\" %(best_acc))\n",
        "\n",
        "  # load best model weights\n",
        "  net.load_state_dict(best_net_wts)\n",
        "\n",
        "  return net,current_loss_his,current_Acc_his\n"
      ],
      "execution_count": null,
      "outputs": []
    },
    {
      "cell_type": "code",
      "metadata": {
        "id": "HWpJ45sEx0DY"
      },
      "source": [
        "def test_acc(net):\n",
        "  count = 0\n",
        "  # 模型测试\n",
        "  for inputs, _ in test_loader:\n",
        "      inputs = inputs.to(device)\n",
        "      outputs = net(inputs)\n",
        "      outputs = np.argmax(outputs.detach().cpu().numpy(), axis=1)\n",
        "      if count == 0:\n",
        "          y_pred_test =  outputs\n",
        "          count = 1\n",
        "      else:\n",
        "          y_pred_test = np.concatenate( (y_pred_test, outputs) )\n",
        "\n",
        "  # 生成分类报告\n",
        "  classification = classification_report(ytest, y_pred_test, digits=4)\n",
        "  index_acc = classification.find('weighted avg')\n",
        "  accuracy = classification[index_acc+17:index_acc+23]\n",
        "  return float(accuracy)"
      ],
      "execution_count": null,
      "outputs": []
    },
    {
      "cell_type": "code",
      "metadata": {
        "colab": {
          "base_uri": "https://localhost:8080/"
        },
        "id": "dfdxjP0TuXP_",
        "outputId": "a1dcf088-a552-4feb-96ec-2a1639a9287b"
      },
      "source": [
        "# 使用GPU训练，可以在菜单 \"代码执行工具\" -> \"更改运行时类型\" 里进行设置\n",
        "device = torch.device(\"cuda:0\" if torch.cuda.is_available() else \"cpu\")\n",
        "\n",
        "# 网络放到GPU上\n",
        "net = HybridSN().to(device)\n",
        "# 训练\n",
        "net,current_loss_his,current_Acc_his = train(net)"
      ],
      "execution_count": null,
      "outputs": [
        {
          "output_type": "stream",
          "text": [
            "[Epoch: 1]   [loss avg: 22.5075]   [current loss: 2.7349]  [current acc: 0.0574]\n"
          ],
          "name": "stdout"
        },
        {
          "output_type": "stream",
          "text": [
            "/usr/local/lib/python3.6/dist-packages/sklearn/metrics/_classification.py:1272: UndefinedMetricWarning: Precision and F-score are ill-defined and being set to 0.0 in labels with no predicted samples. Use `zero_division` parameter to control this behavior.\n",
            "  _warn_prf(average, modifier, msg_start, len(result))\n"
          ],
          "name": "stderr"
        },
        {
          "output_type": "stream",
          "text": [
            "[Epoch: 2]   [loss avg: 21.8608]   [current loss: 2.6093]  [current acc: 0.0574]\n",
            "[Epoch: 3]   [loss avg: 21.2250]   [current loss: 2.4774]  [current acc: 0.0574]\n",
            "[Epoch: 4]   [loss avg: 20.7184]   [current loss: 2.4383]  [current acc: 0.0574]\n",
            "[Epoch: 5]   [loss avg: 20.3383]   [current loss: 2.4223]  [current acc: 0.0574]\n",
            "[Epoch: 6]   [loss avg: 19.9677]   [current loss: 2.2148]  [current acc: 0.0574]\n",
            "[Epoch: 7]   [loss avg: 19.5804]   [current loss: 2.0577]  [current acc: 0.0794]\n",
            "[Epoch: 8]   [loss avg: 19.1345]   [current loss: 1.8743]  [current acc: 0.2067]\n",
            "[Epoch: 9]   [loss avg: 18.5646]   [current loss: 1.6286]  [current acc: 0.2212]\n",
            "[Epoch: 10]   [loss avg: 17.9343]   [current loss: 1.5080]  [current acc: 0.2620]\n",
            "[Epoch: 11]   [loss avg: 17.3353]   [current loss: 1.4757]  [current acc: 0.4426]\n",
            "[Epoch: 12]   [loss avg: 16.7405]   [current loss: 1.0903]  [current acc: 0.6117]\n",
            "[Epoch: 13]   [loss avg: 16.1413]   [current loss: 0.8911]  [current acc: 0.6900]\n",
            "[Epoch: 14]   [loss avg: 15.5245]   [current loss: 0.9653]  [current acc: 0.7435]\n",
            "[Epoch: 15]   [loss avg: 14.9104]   [current loss: 0.8615]  [current acc: 0.7729]\n",
            "[Epoch: 16]   [loss avg: 14.3033]   [current loss: 0.5924]  [current acc: 0.8445]\n",
            "[Epoch: 17]   [loss avg: 13.7311]   [current loss: 0.5655]  [current acc: 0.8624]\n",
            "[Epoch: 18]   [loss avg: 13.1961]   [current loss: 0.6501]  [current acc: 0.8460]\n",
            "[Epoch: 19]   [loss avg: 12.7272]   [current loss: 0.5294]  [current acc: 0.8894]\n",
            "[Epoch: 20]   [loss avg: 12.2628]   [current loss: 0.4529]  [current acc: 0.9095]\n",
            "[Epoch: 21]   [loss avg: 11.8058]   [current loss: 0.2900]  [current acc: 0.9322]\n",
            "[Epoch: 22]   [loss avg: 11.3569]   [current loss: 0.2560]  [current acc: 0.9398]\n",
            "[Epoch: 23]   [loss avg: 10.9463]   [current loss: 0.1820]  [current acc: 0.9456]\n",
            "[Epoch: 24]   [loss avg: 10.5635]   [current loss: 0.1898]  [current acc: 0.9470]\n",
            "[Epoch: 25]   [loss avg: 10.2006]   [current loss: 0.1977]  [current acc: 0.9510]\n",
            "[Epoch: 26]   [loss avg: 9.8521]   [current loss: 0.0879]  [current acc: 0.9564]\n",
            "[Epoch: 27]   [loss avg: 9.5227]   [current loss: 0.0963]  [current acc: 0.9599]\n",
            "[Epoch: 28]   [loss avg: 9.2185]   [current loss: 0.1999]  [current acc: 0.9652]\n",
            "[Epoch: 29]   [loss avg: 8.9317]   [current loss: 0.1722]  [current acc: 0.9626]\n",
            "[Epoch: 30]   [loss avg: 8.6679]   [current loss: 0.1433]  [current acc: 0.9511]\n",
            "[Epoch: 31]   [loss avg: 8.4248]   [current loss: 0.2145]  [current acc: 0.9554]\n",
            "[Epoch: 32]   [loss avg: 8.1987]   [current loss: 0.1054]  [current acc: 0.9650]\n",
            "[Epoch: 33]   [loss avg: 7.9779]   [current loss: 0.0880]  [current acc: 0.9676]\n",
            "[Epoch: 34]   [loss avg: 7.7641]   [current loss: 0.0842]  [current acc: 0.9717]\n",
            "[Epoch: 35]   [loss avg: 7.5589]   [current loss: 0.0456]  [current acc: 0.9754]\n",
            "[Epoch: 36]   [loss avg: 7.3628]   [current loss: 0.0589]  [current acc: 0.9718]\n",
            "[Epoch: 37]   [loss avg: 7.1774]   [current loss: 0.0508]  [current acc: 0.9718]\n",
            "[Epoch: 38]   [loss avg: 7.0236]   [current loss: 0.0541]  [current acc: 0.9636]\n",
            "[Epoch: 39]   [loss avg: 6.8706]   [current loss: 0.1936]  [current acc: 0.9685]\n",
            "[Epoch: 40]   [loss avg: 6.7108]   [current loss: 0.0335]  [current acc: 0.9719]\n",
            "[Epoch: 41]   [loss avg: 6.5606]   [current loss: 0.0624]  [current acc: 0.9691]\n",
            "[Epoch: 42]   [loss avg: 6.4170]   [current loss: 0.0595]  [current acc: 0.9714]\n",
            "[Epoch: 43]   [loss avg: 6.2746]   [current loss: 0.0332]  [current acc: 0.9709]\n",
            "[Epoch: 44]   [loss avg: 6.1386]   [current loss: 0.0160]  [current acc: 0.9758]\n",
            "[Epoch: 45]   [loss avg: 6.0101]   [current loss: 0.1295]  [current acc: 0.9746]\n",
            "[Epoch: 46]   [loss avg: 5.8845]   [current loss: 0.0346]  [current acc: 0.9744]\n",
            "[Epoch: 47]   [loss avg: 5.7663]   [current loss: 0.0079]  [current acc: 0.9734]\n",
            "[Epoch: 48]   [loss avg: 5.6545]   [current loss: 0.0089]  [current acc: 0.9756]\n",
            "[Epoch: 49]   [loss avg: 5.5431]   [current loss: 0.0595]  [current acc: 0.9732]\n",
            "[Epoch: 50]   [loss avg: 5.4393]   [current loss: 0.0778]  [current acc: 0.9694]\n",
            "[Epoch: 51]   [loss avg: 5.3395]   [current loss: 0.0379]  [current acc: 0.9752]\n",
            "[Epoch: 52]   [loss avg: 5.2407]   [current loss: 0.0558]  [current acc: 0.9771]\n",
            "[Epoch: 53]   [loss avg: 5.1490]   [current loss: 0.0142]  [current acc: 0.9692]\n",
            "[Epoch: 54]   [loss avg: 5.0604]   [current loss: 0.0131]  [current acc: 0.9707]\n",
            "[Epoch: 55]   [loss avg: 4.9741]   [current loss: 0.0648]  [current acc: 0.9730]\n",
            "[Epoch: 56]   [loss avg: 4.8922]   [current loss: 0.0375]  [current acc: 0.9699]\n",
            "[Epoch: 57]   [loss avg: 4.8147]   [current loss: 0.0244]  [current acc: 0.9690]\n",
            "[Epoch: 58]   [loss avg: 4.7381]   [current loss: 0.0089]  [current acc: 0.9746]\n",
            "[Epoch: 59]   [loss avg: 4.6639]   [current loss: 0.0630]  [current acc: 0.9737]\n",
            "[Epoch: 60]   [loss avg: 4.5895]   [current loss: 0.0316]  [current acc: 0.9757]\n",
            "[Epoch: 61]   [loss avg: 4.5183]   [current loss: 0.0548]  [current acc: 0.9771]\n",
            "[Epoch: 62]   [loss avg: 4.4498]   [current loss: 0.0320]  [current acc: 0.9751]\n",
            "[Epoch: 63]   [loss avg: 4.3826]   [current loss: 0.0082]  [current acc: 0.9717]\n",
            "[Epoch: 64]   [loss avg: 4.3206]   [current loss: 0.0162]  [current acc: 0.9731]\n",
            "[Epoch: 65]   [loss avg: 4.2631]   [current loss: 0.0370]  [current acc: 0.9707]\n",
            "[Epoch: 66]   [loss avg: 4.2017]   [current loss: 0.0188]  [current acc: 0.9688]\n",
            "[Epoch: 67]   [loss avg: 4.1421]   [current loss: 0.0191]  [current acc: 0.9683]\n",
            "[Epoch: 68]   [loss avg: 4.0851]   [current loss: 0.0435]  [current acc: 0.9744]\n",
            "[Epoch: 69]   [loss avg: 4.0300]   [current loss: 0.0229]  [current acc: 0.9752]\n",
            "[Epoch: 70]   [loss avg: 3.9756]   [current loss: 0.0275]  [current acc: 0.9740]\n",
            "[Epoch: 71]   [loss avg: 3.9228]   [current loss: 0.0445]  [current acc: 0.9765]\n",
            "[Epoch: 72]   [loss avg: 3.8700]   [current loss: 0.0039]  [current acc: 0.9749]\n",
            "[Epoch: 73]   [loss avg: 3.8196]   [current loss: 0.0024]  [current acc: 0.9772]\n",
            "[Epoch: 74]   [loss avg: 3.7698]   [current loss: 0.0047]  [current acc: 0.9777]\n",
            "[Epoch: 75]   [loss avg: 3.7224]   [current loss: 0.0185]  [current acc: 0.9790]\n",
            "[Epoch: 76]   [loss avg: 3.6772]   [current loss: 0.1160]  [current acc: 0.9749]\n",
            "[Epoch: 77]   [loss avg: 3.6311]   [current loss: 0.0155]  [current acc: 0.9696]\n",
            "[Epoch: 78]   [loss avg: 3.5859]   [current loss: 0.0117]  [current acc: 0.9726]\n",
            "[Epoch: 79]   [loss avg: 3.5436]   [current loss: 0.0051]  [current acc: 0.9735]\n",
            "[Epoch: 80]   [loss avg: 3.5020]   [current loss: 0.0150]  [current acc: 0.9737]\n",
            "[Epoch: 81]   [loss avg: 3.4610]   [current loss: 0.0081]  [current acc: 0.9731]\n",
            "[Epoch: 82]   [loss avg: 3.4199]   [current loss: 0.0015]  [current acc: 0.9745]\n",
            "[Epoch: 83]   [loss avg: 3.3805]   [current loss: 0.0241]  [current acc: 0.9747]\n",
            "[Epoch: 84]   [loss avg: 3.3422]   [current loss: 0.0296]  [current acc: 0.9755]\n",
            "[Epoch: 85]   [loss avg: 3.3039]   [current loss: 0.0220]  [current acc: 0.9769]\n",
            "[Epoch: 86]   [loss avg: 3.2673]   [current loss: 0.0593]  [current acc: 0.9699]\n",
            "[Epoch: 87]   [loss avg: 3.2315]   [current loss: 0.0493]  [current acc: 0.9745]\n",
            "[Epoch: 88]   [loss avg: 3.1961]   [current loss: 0.0116]  [current acc: 0.9741]\n",
            "[Epoch: 89]   [loss avg: 3.1623]   [current loss: 0.0345]  [current acc: 0.9759]\n",
            "[Epoch: 90]   [loss avg: 3.1286]   [current loss: 0.0779]  [current acc: 0.9760]\n",
            "[Epoch: 91]   [loss avg: 3.0959]   [current loss: 0.0763]  [current acc: 0.9778]\n",
            "[Epoch: 92]   [loss avg: 3.0635]   [current loss: 0.0066]  [current acc: 0.9767]\n",
            "[Epoch: 93]   [loss avg: 3.0325]   [current loss: 0.0070]  [current acc: 0.9766]\n",
            "[Epoch: 94]   [loss avg: 3.0009]   [current loss: 0.0011]  [current acc: 0.9764]\n",
            "[Epoch: 95]   [loss avg: 2.9700]   [current loss: 0.0171]  [current acc: 0.9758]\n",
            "[Epoch: 96]   [loss avg: 2.9405]   [current loss: 0.0251]  [current acc: 0.9762]\n",
            "[Epoch: 97]   [loss avg: 2.9122]   [current loss: 0.0183]  [current acc: 0.9723]\n",
            "[Epoch: 98]   [loss avg: 2.8844]   [current loss: 0.0027]  [current acc: 0.9719]\n",
            "[Epoch: 99]   [loss avg: 2.8591]   [current loss: 0.1336]  [current acc: 0.9704]\n",
            "[Epoch: 100]   [loss avg: 2.8343]   [current loss: 0.0466]  [current acc: 0.9728]\n",
            "Finished Training\n",
            "Best Acc:0.9790\n"
          ],
          "name": "stdout"
        }
      ]
    },
    {
      "cell_type": "code",
      "metadata": {
        "colab": {
          "base_uri": "https://localhost:8080/"
        },
        "id": "4x4n69XO5B6m",
        "outputId": "165eedc1-917a-4e36-86ce-6e2b771f1086"
      },
      "source": [
        "current_loss_his"
      ],
      "execution_count": null,
      "outputs": [
        {
          "output_type": "execute_result",
          "data": {
            "text/plain": [
              "[2.734907865524292,\n",
              " 2.6092827320098877,\n",
              " 2.4774415493011475,\n",
              " 2.43830943107605,\n",
              " 2.4223458766937256,\n",
              " 2.2147703170776367,\n",
              " 2.057713508605957,\n",
              " 1.8743252754211426,\n",
              " 1.6285991668701172,\n",
              " 1.5079761743545532,\n",
              " 1.475677728652954,\n",
              " 1.090346336364746,\n",
              " 0.8911038041114807,\n",
              " 0.9652518630027771,\n",
              " 0.8615198731422424,\n",
              " 0.592408299446106,\n",
              " 0.5654528737068176,\n",
              " 0.650113046169281,\n",
              " 0.5294400453567505,\n",
              " 0.4528641104698181,\n",
              " 0.2900409400463104,\n",
              " 0.2560333013534546,\n",
              " 0.18199101090431213,\n",
              " 0.18979087471961975,\n",
              " 0.1976805031299591,\n",
              " 0.08788677304983139,\n",
              " 0.09632417559623718,\n",
              " 0.19992294907569885,\n",
              " 0.17216435074806213,\n",
              " 0.14331185817718506,\n",
              " 0.2145216017961502,\n",
              " 0.10541955381631851,\n",
              " 0.08797848969697952,\n",
              " 0.08415360003709793,\n",
              " 0.045634228736162186,\n",
              " 0.0589091032743454,\n",
              " 0.05081522464752197,\n",
              " 0.05414099991321564,\n",
              " 0.19356678426265717,\n",
              " 0.0335070937871933,\n",
              " 0.06241166591644287,\n",
              " 0.05951357260346413,\n",
              " 0.033231887966394424,\n",
              " 0.016002293676137924,\n",
              " 0.12953658401966095,\n",
              " 0.034616563469171524,\n",
              " 0.00789610855281353,\n",
              " 0.008948605507612228,\n",
              " 0.05947359278798103,\n",
              " 0.07782409340143204,\n",
              " 0.037862684577703476,\n",
              " 0.05579466000199318,\n",
              " 0.014214093796908855,\n",
              " 0.013090993277728558,\n",
              " 0.06478266417980194,\n",
              " 0.03745212405920029,\n",
              " 0.024380432441830635,\n",
              " 0.008943586610257626,\n",
              " 0.0630420371890068,\n",
              " 0.031561680138111115,\n",
              " 0.054788488894701004,\n",
              " 0.03197966143488884,\n",
              " 0.008197742514312267,\n",
              " 0.016190506517887115,\n",
              " 0.03698277845978737,\n",
              " 0.01882268488407135,\n",
              " 0.019143972545862198,\n",
              " 0.04352991655468941,\n",
              " 0.022875595837831497,\n",
              " 0.027539096772670746,\n",
              " 0.044515207409858704,\n",
              " 0.0038580037653446198,\n",
              " 0.00244113034568727,\n",
              " 0.004670352209359407,\n",
              " 0.01854793168604374,\n",
              " 0.1160382553935051,\n",
              " 0.015545583330094814,\n",
              " 0.011670189909636974,\n",
              " 0.005094203166663647,\n",
              " 0.015004897490143776,\n",
              " 0.008101806975901127,\n",
              " 0.0014815791510045528,\n",
              " 0.02413092367351055,\n",
              " 0.029561316594481468,\n",
              " 0.022039953619241714,\n",
              " 0.059327997267246246,\n",
              " 0.049272697418928146,\n",
              " 0.011598940007388592,\n",
              " 0.034512486308813095,\n",
              " 0.07790912687778473,\n",
              " 0.07629568874835968,\n",
              " 0.006553510669618845,\n",
              " 0.006959989666938782,\n",
              " 0.0011211958480998874,\n",
              " 0.017103834077715874,\n",
              " 0.025070324540138245,\n",
              " 0.01828577183187008,\n",
              " 0.002684424864128232,\n",
              " 0.13358616828918457,\n",
              " 0.04664783552289009]"
            ]
          },
          "metadata": {
            "tags": []
          },
          "execution_count": 199
        }
      ]
    },
    {
      "cell_type": "code",
      "metadata": {
        "colab": {
          "base_uri": "https://localhost:8080/"
        },
        "id": "zSFVqxD-5CS_",
        "outputId": "debe2479-76fb-483f-c858-43a2ff746047"
      },
      "source": [
        "current_Acc_his"
      ],
      "execution_count": null,
      "outputs": [
        {
          "output_type": "execute_result",
          "data": {
            "text/plain": [
              "[0.0574,\n",
              " 0.0574,\n",
              " 0.0574,\n",
              " 0.0574,\n",
              " 0.0574,\n",
              " 0.0574,\n",
              " 0.0794,\n",
              " 0.2067,\n",
              " 0.2212,\n",
              " 0.262,\n",
              " 0.4426,\n",
              " 0.6117,\n",
              " 0.69,\n",
              " 0.7435,\n",
              " 0.7729,\n",
              " 0.8445,\n",
              " 0.8624,\n",
              " 0.846,\n",
              " 0.8894,\n",
              " 0.9095,\n",
              " 0.9322,\n",
              " 0.9398,\n",
              " 0.9456,\n",
              " 0.947,\n",
              " 0.951,\n",
              " 0.9564,\n",
              " 0.9599,\n",
              " 0.9652,\n",
              " 0.9626,\n",
              " 0.9511,\n",
              " 0.9554,\n",
              " 0.965,\n",
              " 0.9676,\n",
              " 0.9717,\n",
              " 0.9754,\n",
              " 0.9718,\n",
              " 0.9718,\n",
              " 0.9636,\n",
              " 0.9685,\n",
              " 0.9719,\n",
              " 0.9691,\n",
              " 0.9714,\n",
              " 0.9709,\n",
              " 0.9758,\n",
              " 0.9746,\n",
              " 0.9744,\n",
              " 0.9734,\n",
              " 0.9756,\n",
              " 0.9732,\n",
              " 0.9694,\n",
              " 0.9752,\n",
              " 0.9771,\n",
              " 0.9692,\n",
              " 0.9707,\n",
              " 0.973,\n",
              " 0.9699,\n",
              " 0.969,\n",
              " 0.9746,\n",
              " 0.9737,\n",
              " 0.9757,\n",
              " 0.9771,\n",
              " 0.9751,\n",
              " 0.9717,\n",
              " 0.9731,\n",
              " 0.9707,\n",
              " 0.9688,\n",
              " 0.9683,\n",
              " 0.9744,\n",
              " 0.9752,\n",
              " 0.974,\n",
              " 0.9765,\n",
              " 0.9749,\n",
              " 0.9772,\n",
              " 0.9777,\n",
              " 0.979,\n",
              " 0.9749,\n",
              " 0.9696,\n",
              " 0.9726,\n",
              " 0.9735,\n",
              " 0.9737,\n",
              " 0.9731,\n",
              " 0.9745,\n",
              " 0.9747,\n",
              " 0.9755,\n",
              " 0.9769,\n",
              " 0.9699,\n",
              " 0.9745,\n",
              " 0.9741,\n",
              " 0.9759,\n",
              " 0.976,\n",
              " 0.9778,\n",
              " 0.9767,\n",
              " 0.9766,\n",
              " 0.9764,\n",
              " 0.9758,\n",
              " 0.9762,\n",
              " 0.9723,\n",
              " 0.9719,\n",
              " 0.9704,\n",
              " 0.9728]"
            ]
          },
          "metadata": {
            "tags": []
          },
          "execution_count": 200
        }
      ]
    },
    {
      "cell_type": "code",
      "metadata": {
        "id": "mVAokJhA5O7U"
      },
      "source": [
        "import matplotlib.pyplot as plt\n",
        "%matplotlib inline\n",
        "import numpy as np\n",
        "def show_plot(data,plot_name,x_name,y_name):\n",
        "  plt.title(plot_name)\n",
        "  plt.xlabel(x_name)\n",
        "  plt.ylabel(y_name)\n",
        "  plt.plot(data)"
      ],
      "execution_count": null,
      "outputs": []
    },
    {
      "cell_type": "code",
      "metadata": {
        "colab": {
          "base_uri": "https://localhost:8080/",
          "height": 295
        },
        "id": "cAvSf7JO5S63",
        "outputId": "dd9e57bd-004e-4fa8-ff2e-dfaad793b8b8"
      },
      "source": [
        "show_plot(current_loss_his,'Hybrid train loss plot','Epoch','Loss')"
      ],
      "execution_count": null,
      "outputs": [
        {
          "output_type": "display_data",
          "data": {
            "image/png": "[encoded data removed]",
            "text/plain": [
              "<Figure size 432x288 with 1 Axes>"
            ]
          },
          "metadata": {
            "tags": [],
            "needs_background": "light"
          }
        }
      ]
    },
    {
      "cell_type": "code",
      "metadata": {
        "colab": {
          "base_uri": "https://localhost:8080/",
          "height": 295
        },
        "id": "lKCtWYfB6RRn",
        "outputId": "60779e5d-9dd1-49a1-b1ba-c6f7399de6ec"
      },
      "source": [
        "show_plot(current_Acc_his,'Hybrid Accuracy plot','Epoch','Accuracy')"
      ],
      "execution_count": null,
      "outputs": [
        {
          "output_type": "display_data",
          "data": {
            "image/png": "[encoded data removed]",
            "text/plain": [
              "<Figure size 432x288 with 1 Axes>"
            ]
          },
          "metadata": {
            "tags": [],
            "needs_background": "light"
          }
        }
      ]
    },
    {
      "cell_type": "markdown",
      "metadata": {
        "id": "BC5cm8ZzvAKm"
      },
      "source": [
        "## 4 模型测试"
      ]
    },
    {
      "cell_type": "code",
      "metadata": {
        "colab": {
          "base_uri": "https://localhost:8080/"
        },
        "id": "b-AZ9wyWvfrr",
        "outputId": "3acc7fd7-5330-414c-ade8-aba719832a39"
      },
      "source": [
        "net.eval()   # 将模型设置为验证模式\n",
        "# 测试最好的模型的结果\n",
        "count = 0\n",
        "# 模型测试\n",
        "for inputs, _ in test_loader:\n",
        "    inputs = inputs.to(device)\n",
        "    outputs = net(inputs)\n",
        "    outputs = np.argmax(outputs.detach().cpu().numpy(), axis=1)\n",
        "    if count == 0:\n",
        "        y_pred_test =  outputs\n",
        "        count = 1\n",
        "    else:\n",
        "        y_pred_test = np.concatenate( (y_pred_test, outputs) )\n",
        "\n",
        "# 生成分类报告\n",
        "classification = classification_report(ytest, y_pred_test, digits=4)\n",
        "print(classification)"
      ],
      "execution_count": null,
      "outputs": [
        {
          "output_type": "stream",
          "text": [
            "              precision    recall  f1-score   support\n",
            "\n",
            "         0.0     1.0000    0.8537    0.9211        41\n",
            "         1.0     0.9919    0.9525    0.9718      1285\n",
            "         2.0     0.9750    0.9920    0.9834       747\n",
            "         3.0     0.9476    0.9343    0.9409       213\n",
            "         4.0     0.9817    0.9862    0.9839       435\n",
            "         5.0     0.9801    0.9726    0.9763       657\n",
            "         6.0     0.9600    0.9600    0.9600        25\n",
            "         7.0     0.9795    1.0000    0.9896       430\n",
            "         8.0     0.8571    0.6667    0.7500        18\n",
            "         9.0     0.9709    0.9931    0.9819       875\n",
            "        10.0     0.9716    0.9891    0.9803      2210\n",
            "        11.0     0.9920    0.9288    0.9594       534\n",
            "        12.0     1.0000    0.9946    0.9973       185\n",
            "        13.0     0.9913    0.9974    0.9943      1139\n",
            "        14.0     0.9829    0.9942    0.9885       347\n",
            "        15.0     0.8602    0.9524    0.9040        84\n",
            "\n",
            "    accuracy                         0.9788      9225\n",
            "   macro avg     0.9651    0.9480    0.9552      9225\n",
            "weighted avg     0.9790    0.9788    0.9786      9225\n",
            "\n"
          ],
          "name": "stdout"
        }
      ]
    },
    {
      "cell_type": "code",
      "metadata": {
        "colab": {
          "base_uri": "https://localhost:8080/"
        },
        "id": "EJlJSu6Lwpq_",
        "outputId": "9a5d5b51-8c90-436c-8c07-d6a05a3f0f78"
      },
      "source": [
        "classification.find('weighted avg')"
      ],
      "execution_count": null,
      "outputs": [
        {
          "output_type": "execute_result",
          "data": {
            "text/plain": [
              "1028"
            ]
          },
          "metadata": {
            "tags": []
          },
          "execution_count": 83
        }
      ]
    },
    {
      "cell_type": "code",
      "metadata": {
        "colab": {
          "base_uri": "https://localhost:8080/",
          "height": 35
        },
        "id": "RTHOtji2xRR4",
        "outputId": "a0051bde-d459-4403-cb37-bd6d6a485238"
      },
      "source": [
        "classification[classification.find('weighted avg')+17:classification.find('weighted avg')+23]"
      ],
      "execution_count": null,
      "outputs": [
        {
          "output_type": "execute_result",
          "data": {
            "application/vnd.google.colaboratory.intrinsic+json": {
              "type": "string"
            },
            "text/plain": [
              "'0.9217'"
            ]
          },
          "metadata": {
            "tags": []
          },
          "execution_count": 91
        }
      ]
    },
    {
      "cell_type": "code",
      "metadata": {
        "colab": {
          "base_uri": "https://localhost:8080/"
        },
        "id": "bUumuS5JwhoU",
        "outputId": "0ff17dbe-10af-4d6d-cb90-0f325debe13c"
      },
      "source": [
        "type(classification)"
      ],
      "execution_count": null,
      "outputs": [
        {
          "output_type": "execute_result",
          "data": {
            "text/plain": [
              "str"
            ]
          },
          "metadata": {
            "tags": []
          },
          "execution_count": 81
        }
      ]
    },
    {
      "cell_type": "markdown",
      "metadata": {
        "id": "Np2LQlfC1n2y"
      },
      "source": [
        "## 5 添加BN"
      ]
    },
    {
      "cell_type": "code",
      "metadata": {
        "id": "G-fKvyUH1tYO"
      },
      "source": [
        "class_num = 16\n",
        "\n",
        "class HybridSN_BN(nn.Module):  \n",
        "  def __init__(self, in_channels=1, out_channels=class_num):\n",
        "    super(HybridSN_BN, self).__init__()\n",
        "    self.conv3d_features = nn.Sequential(\n",
        "        nn.Conv3d(in_channels,out_channels=8,kernel_size=(7,3,3)),\n",
        "        nn.BatchNorm3d(8),\n",
        "        nn.ReLU(),\n",
        "        nn.Conv3d(in_channels=8,out_channels=16,kernel_size=(5,3,3)),\n",
        "        nn.BatchNorm3d(16),\n",
        "        nn.ReLU(),\n",
        "        nn.Conv3d(in_channels=16,out_channels=32,kernel_size=(3,3,3)),\n",
        "        nn.BatchNorm3d(32),\n",
        "        nn.ReLU()\n",
        "    )\n",
        "\n",
        "    self.conv2d_features = nn.Sequential(\n",
        "        nn.Conv2d(in_channels=32 * 18, out_channels=64, kernel_size=(3,3)),\n",
        "        nn.BatchNorm2d(64),\n",
        "        nn.ReLU()\n",
        "    )\n",
        "\n",
        "    self.classifier = nn.Sequential(\n",
        "        nn.Linear(64 * 17 * 17, 256),\n",
        "        nn.ReLU(),\n",
        "        nn.Dropout(p=0.4),\n",
        "        nn.Linear(256, 128),\n",
        "        nn.ReLU(),\n",
        "        nn.Dropout(p=0.4),\n",
        "        nn.Linear(128, 16)\n",
        "    )\n",
        " \n",
        "  def forward(self, x):\n",
        "    x = self.conv3d_features(x)\n",
        "    x = x.view(x.size()[0],x.size()[1]*x.size()[2],x.size()[3],x.size()[4])\n",
        "    x = self.conv2d_features(x)\n",
        "    x = x.view(x.size()[0],-1)\n",
        "    x = self.classifier(x)\n",
        "    return x"
      ],
      "execution_count": null,
      "outputs": []
    },
    {
      "cell_type": "code",
      "metadata": {
        "colab": {
          "base_uri": "https://localhost:8080/"
        },
        "id": "TamssTG249u-",
        "outputId": "6738f50d-6fbb-4fc6-afdb-59680e7818b0"
      },
      "source": [
        "# 随机输入，测试网络结构是否通\n",
        "x = torch.randn(4, 1, 30, 25, 25)\n",
        "net_bn = HybridSN_BN()\n",
        "y = net_bn(x)\n",
        "print(y.shape)"
      ],
      "execution_count": null,
      "outputs": [
        {
          "output_type": "stream",
          "text": [
            "torch.Size([4, 16])\n"
          ],
          "name": "stdout"
        }
      ]
    },
    {
      "cell_type": "code",
      "metadata": {
        "colab": {
          "base_uri": "https://localhost:8080/"
        },
        "id": "bYE2EQdq8jMi",
        "outputId": "9d2b5588-4d82-45d0-ea8f-8f7b963abf31"
      },
      "source": [
        "# 使用GPU训练，可以在菜单 \"代码执行工具\" -> \"更改运行时类型\" 里进行设置\n",
        "device = torch.device(\"cuda:0\" if torch.cuda.is_available() else \"cpu\")\n",
        "\n",
        "# 网络放到GPU上\n",
        "net_bn = HybridSN_BN().to(device)\n",
        "# 训练\n",
        "net_bn,net_bn_current_loss_his,net_bn_current_Acc_his = train(net_bn)\n"
      ],
      "execution_count": null,
      "outputs": [
        {
          "output_type": "stream",
          "text": [
            "[Epoch: 1]   [loss avg: 21.4433]   [current loss: 2.1303]  [current acc: 0.3339]\n"
          ],
          "name": "stdout"
        },
        {
          "output_type": "stream",
          "text": [
            "/usr/local/lib/python3.6/dist-packages/sklearn/metrics/_classification.py:1272: UndefinedMetricWarning: Precision and F-score are ill-defined and being set to 0.0 in labels with no predicted samples. Use `zero_division` parameter to control this behavior.\n",
            "  _warn_prf(average, modifier, msg_start, len(result))\n"
          ],
          "name": "stderr"
        },
        {
          "output_type": "stream",
          "text": [
            "[Epoch: 2]   [loss avg: 17.8773]   [current loss: 1.4849]  [current acc: 0.4129]\n",
            "[Epoch: 3]   [loss avg: 15.3112]   [current loss: 1.1899]  [current acc: 0.5230]\n",
            "[Epoch: 4]   [loss avg: 13.3365]   [current loss: 0.9701]  [current acc: 0.6484]\n",
            "[Epoch: 5]   [loss avg: 11.8137]   [current loss: 0.6020]  [current acc: 0.8549]\n",
            "[Epoch: 6]   [loss avg: 10.4606]   [current loss: 0.5055]  [current acc: 0.8928]\n",
            "[Epoch: 7]   [loss avg: 9.3524]   [current loss: 0.3659]  [current acc: 0.9058]\n",
            "[Epoch: 8]   [loss avg: 8.4483]   [current loss: 0.2106]  [current acc: 0.9447]\n",
            "[Epoch: 9]   [loss avg: 7.6865]   [current loss: 0.2823]  [current acc: 0.9545]\n",
            "[Epoch: 10]   [loss avg: 7.0392]   [current loss: 0.1205]  [current acc: 0.9706]\n",
            "[Epoch: 11]   [loss avg: 6.5182]   [current loss: 0.0947]  [current acc: 0.9620]\n",
            "[Epoch: 12]   [loss avg: 6.0511]   [current loss: 0.0936]  [current acc: 0.9761]\n",
            "[Epoch: 13]   [loss avg: 5.6462]   [current loss: 0.1242]  [current acc: 0.9704]\n",
            "[Epoch: 14]   [loss avg: 5.2935]   [current loss: 0.0877]  [current acc: 0.9781]\n",
            "[Epoch: 15]   [loss avg: 4.9871]   [current loss: 0.0479]  [current acc: 0.9766]\n",
            "[Epoch: 16]   [loss avg: 4.7229]   [current loss: 0.0308]  [current acc: 0.9747]\n",
            "[Epoch: 17]   [loss avg: 4.4924]   [current loss: 0.0887]  [current acc: 0.9656]\n",
            "[Epoch: 18]   [loss avg: 4.2785]   [current loss: 0.0581]  [current acc: 0.9829]\n",
            "[Epoch: 19]   [loss avg: 4.0795]   [current loss: 0.0851]  [current acc: 0.9859]\n",
            "[Epoch: 20]   [loss avg: 3.8958]   [current loss: 0.0349]  [current acc: 0.9857]\n",
            "[Epoch: 21]   [loss avg: 3.7292]   [current loss: 0.0384]  [current acc: 0.9820]\n",
            "[Epoch: 22]   [loss avg: 3.5701]   [current loss: 0.0079]  [current acc: 0.9835]\n",
            "[Epoch: 23]   [loss avg: 3.4233]   [current loss: 0.0302]  [current acc: 0.9849]\n",
            "[Epoch: 24]   [loss avg: 3.2908]   [current loss: 0.0044]  [current acc: 0.9871]\n",
            "[Epoch: 25]   [loss avg: 3.1724]   [current loss: 0.0610]  [current acc: 0.9861]\n",
            "[Epoch: 26]   [loss avg: 3.0607]   [current loss: 0.0201]  [current acc: 0.9873]\n",
            "[Epoch: 27]   [loss avg: 2.9552]   [current loss: 0.0090]  [current acc: 0.9875]\n",
            "[Epoch: 28]   [loss avg: 2.8579]   [current loss: 0.0159]  [current acc: 0.9868]\n",
            "[Epoch: 29]   [loss avg: 2.7661]   [current loss: 0.0188]  [current acc: 0.9865]\n",
            "[Epoch: 30]   [loss avg: 2.6793]   [current loss: 0.0174]  [current acc: 0.9872]\n",
            "[Epoch: 31]   [loss avg: 2.6010]   [current loss: 0.0746]  [current acc: 0.9882]\n",
            "[Epoch: 32]   [loss avg: 2.5262]   [current loss: 0.0229]  [current acc: 0.9875]\n",
            "[Epoch: 33]   [loss avg: 2.4570]   [current loss: 0.0720]  [current acc: 0.9840]\n",
            "[Epoch: 34]   [loss avg: 2.3913]   [current loss: 0.0270]  [current acc: 0.9863]\n",
            "[Epoch: 35]   [loss avg: 2.3264]   [current loss: 0.0036]  [current acc: 0.9868]\n",
            "[Epoch: 36]   [loss avg: 2.2674]   [current loss: 0.0289]  [current acc: 0.9829]\n",
            "[Epoch: 37]   [loss avg: 2.2091]   [current loss: 0.0108]  [current acc: 0.9821]\n",
            "[Epoch: 38]   [loss avg: 2.1568]   [current loss: 0.0756]  [current acc: 0.9865]\n",
            "[Epoch: 39]   [loss avg: 2.1078]   [current loss: 0.0094]  [current acc: 0.9854]\n",
            "[Epoch: 40]   [loss avg: 2.0587]   [current loss: 0.0057]  [current acc: 0.9852]\n",
            "[Epoch: 41]   [loss avg: 2.0115]   [current loss: 0.0039]  [current acc: 0.9863]\n",
            "[Epoch: 42]   [loss avg: 1.9697]   [current loss: 0.0571]  [current acc: 0.9871]\n",
            "[Epoch: 43]   [loss avg: 1.9306]   [current loss: 0.0146]  [current acc: 0.9838]\n",
            "[Epoch: 44]   [loss avg: 1.8991]   [current loss: 0.0659]  [current acc: 0.9843]\n",
            "[Epoch: 45]   [loss avg: 1.8627]   [current loss: 0.0081]  [current acc: 0.9819]\n",
            "[Epoch: 46]   [loss avg: 1.8267]   [current loss: 0.0335]  [current acc: 0.9848]\n",
            "[Epoch: 47]   [loss avg: 1.7925]   [current loss: 0.0357]  [current acc: 0.9829]\n",
            "[Epoch: 48]   [loss avg: 1.7576]   [current loss: 0.0042]  [current acc: 0.9843]\n",
            "[Epoch: 49]   [loss avg: 1.7246]   [current loss: 0.0445]  [current acc: 0.9841]\n",
            "[Epoch: 50]   [loss avg: 1.6931]   [current loss: 0.0240]  [current acc: 0.9853]\n",
            "[Epoch: 51]   [loss avg: 1.6616]   [current loss: 0.0027]  [current acc: 0.9856]\n",
            "[Epoch: 52]   [loss avg: 1.6343]   [current loss: 0.0065]  [current acc: 0.9847]\n",
            "[Epoch: 53]   [loss avg: 1.6057]   [current loss: 0.0111]  [current acc: 0.9795]\n",
            "[Epoch: 54]   [loss avg: 1.5793]   [current loss: 0.0457]  [current acc: 0.9787]\n",
            "[Epoch: 55]   [loss avg: 1.5557]   [current loss: 0.0118]  [current acc: 0.9754]\n",
            "[Epoch: 56]   [loss avg: 1.5358]   [current loss: 0.0365]  [current acc: 0.9752]\n",
            "[Epoch: 57]   [loss avg: 1.5135]   [current loss: 0.0319]  [current acc: 0.9708]\n",
            "[Epoch: 58]   [loss avg: 1.4937]   [current loss: 0.0323]  [current acc: 0.9833]\n",
            "[Epoch: 59]   [loss avg: 1.4716]   [current loss: 0.0656]  [current acc: 0.9836]\n",
            "[Epoch: 60]   [loss avg: 1.4518]   [current loss: 0.0399]  [current acc: 0.9828]\n",
            "[Epoch: 61]   [loss avg: 1.4311]   [current loss: 0.0090]  [current acc: 0.9862]\n",
            "[Epoch: 62]   [loss avg: 1.4103]   [current loss: 0.0100]  [current acc: 0.9836]\n",
            "[Epoch: 63]   [loss avg: 1.3904]   [current loss: 0.0319]  [current acc: 0.9859]\n",
            "[Epoch: 64]   [loss avg: 1.3741]   [current loss: 0.0315]  [current acc: 0.9795]\n",
            "[Epoch: 65]   [loss avg: 1.3578]   [current loss: 0.0006]  [current acc: 0.9854]\n",
            "[Epoch: 66]   [loss avg: 1.3417]   [current loss: 0.1202]  [current acc: 0.9851]\n",
            "[Epoch: 67]   [loss avg: 1.3230]   [current loss: 0.0034]  [current acc: 0.9864]\n",
            "[Epoch: 68]   [loss avg: 1.3059]   [current loss: 0.0052]  [current acc: 0.9857]\n",
            "[Epoch: 69]   [loss avg: 1.2882]   [current loss: 0.0092]  [current acc: 0.9863]\n",
            "[Epoch: 70]   [loss avg: 1.2717]   [current loss: 0.0196]  [current acc: 0.9875]\n",
            "[Epoch: 71]   [loss avg: 1.2548]   [current loss: 0.0023]  [current acc: 0.9886]\n",
            "[Epoch: 72]   [loss avg: 1.2388]   [current loss: 0.0176]  [current acc: 0.9880]\n",
            "[Epoch: 73]   [loss avg: 1.2234]   [current loss: 0.0039]  [current acc: 0.9887]\n",
            "[Epoch: 74]   [loss avg: 1.2079]   [current loss: 0.0323]  [current acc: 0.9880]\n",
            "[Epoch: 75]   [loss avg: 1.1941]   [current loss: 0.0016]  [current acc: 0.9880]\n",
            "[Epoch: 76]   [loss avg: 1.1796]   [current loss: 0.0376]  [current acc: 0.9868]\n",
            "[Epoch: 77]   [loss avg: 1.1667]   [current loss: 0.0010]  [current acc: 0.9874]\n",
            "[Epoch: 78]   [loss avg: 1.1542]   [current loss: 0.0129]  [current acc: 0.9887]\n",
            "[Epoch: 79]   [loss avg: 1.1415]   [current loss: 0.0046]  [current acc: 0.9888]\n",
            "[Epoch: 80]   [loss avg: 1.1282]   [current loss: 0.0006]  [current acc: 0.9889]\n",
            "[Epoch: 81]   [loss avg: 1.1155]   [current loss: 0.0100]  [current acc: 0.9891]\n",
            "[Epoch: 82]   [loss avg: 1.1026]   [current loss: 0.0009]  [current acc: 0.9889]\n",
            "[Epoch: 83]   [loss avg: 1.0906]   [current loss: 0.0143]  [current acc: 0.9887]\n",
            "[Epoch: 84]   [loss avg: 1.0793]   [current loss: 0.0047]  [current acc: 0.9856]\n",
            "[Epoch: 85]   [loss avg: 1.0674]   [current loss: 0.0006]  [current acc: 0.9855]\n",
            "[Epoch: 86]   [loss avg: 1.0556]   [current loss: 0.0287]  [current acc: 0.9863]\n",
            "[Epoch: 87]   [loss avg: 1.0445]   [current loss: 0.0198]  [current acc: 0.9878]\n",
            "[Epoch: 88]   [loss avg: 1.0336]   [current loss: 0.0021]  [current acc: 0.9876]\n",
            "[Epoch: 89]   [loss avg: 1.0226]   [current loss: 0.0015]  [current acc: 0.9872]\n",
            "[Epoch: 90]   [loss avg: 1.0117]   [current loss: 0.0059]  [current acc: 0.9873]\n",
            "[Epoch: 91]   [loss avg: 1.0010]   [current loss: 0.0093]  [current acc: 0.9874]\n",
            "[Epoch: 92]   [loss avg: 0.9913]   [current loss: 0.0322]  [current acc: 0.9872]\n",
            "[Epoch: 93]   [loss avg: 0.9812]   [current loss: 0.0015]  [current acc: 0.9852]\n",
            "[Epoch: 94]   [loss avg: 0.9722]   [current loss: 0.0025]  [current acc: 0.9812]\n",
            "[Epoch: 95]   [loss avg: 0.9629]   [current loss: 0.0028]  [current acc: 0.9834]\n",
            "[Epoch: 96]   [loss avg: 0.9535]   [current loss: 0.0137]  [current acc: 0.9859]\n",
            "[Epoch: 97]   [loss avg: 0.9446]   [current loss: 0.0005]  [current acc: 0.9868]\n",
            "[Epoch: 98]   [loss avg: 0.9353]   [current loss: 0.0006]  [current acc: 0.9862]\n",
            "[Epoch: 99]   [loss avg: 0.9266]   [current loss: 0.0009]  [current acc: 0.9866]\n",
            "[Epoch: 100]   [loss avg: 0.9179]   [current loss: 0.0011]  [current acc: 0.9867]\n",
            "Finished Training\n",
            "Best Acc:0.9891\n"
          ],
          "name": "stdout"
        }
      ]
    },
    {
      "cell_type": "code",
      "metadata": {
        "colab": {
          "base_uri": "https://localhost:8080/",
          "height": 295
        },
        "id": "VV09EzVY9nP5",
        "outputId": "d03dcbfc-e51b-46f6-a752-e4436a9e5711"
      },
      "source": [
        "show_plot(net_bn_current_loss_his,'Hybrid_BN train loss plot','Epoch','Loss')"
      ],
      "execution_count": null,
      "outputs": [
        {
          "output_type": "display_data",
          "data": {
            "image/png": "[encoded data removed]",
            "text/plain": [
              "<Figure size 432x288 with 1 Axes>"
            ]
          },
          "metadata": {
            "tags": [],
            "needs_background": "light"
          }
        }
      ]
    },
    {
      "cell_type": "code",
      "metadata": {
        "colab": {
          "base_uri": "https://localhost:8080/",
          "height": 295
        },
        "id": "R7AG1wVQ-CUw",
        "outputId": "a082324c-a0f9-4b80-a0bb-8fea9a60ce26"
      },
      "source": [
        "show_plot(net_bn_current_Acc_his,'Hybrid_BN Accuracy plot','Epoch','Loss')"
      ],
      "execution_count": null,
      "outputs": [
        {
          "output_type": "display_data",
          "data": {
            "image/png": "[encoded data removed]",
            "text/plain": [
              "<Figure size 432x288 with 1 Axes>"
            ]
          },
          "metadata": {
            "tags": [],
            "needs_background": "light"
          }
        }
      ]
    },
    {
      "cell_type": "code",
      "metadata": {
        "colab": {
          "base_uri": "https://localhost:8080/"
        },
        "id": "31xdQanJ_gdr",
        "outputId": "e0bf618e-2c17-4aa2-fef0-becd153c2b4c"
      },
      "source": [
        "net_bn.eval()   # 将模型设置为验证模式\n",
        "# 最佳模型测试结果\n",
        "count = 0\n",
        "# 模型测试\n",
        "for inputs, _ in test_loader:\n",
        "    inputs = inputs.to(device)\n",
        "    outputs = net_bn(inputs)\n",
        "    outputs = np.argmax(outputs.detach().cpu().numpy(), axis=1)\n",
        "    if count == 0:\n",
        "        y_pred_test =  outputs\n",
        "        count = 1\n",
        "    else:\n",
        "        y_pred_test = np.concatenate( (y_pred_test, outputs) )\n",
        "\n",
        "# 生成分类报告\n",
        "classification = classification_report(ytest, y_pred_test, digits=4)\n",
        "print(classification)"
      ],
      "execution_count": null,
      "outputs": [
        {
          "output_type": "stream",
          "text": [
            "              precision    recall  f1-score   support\n",
            "\n",
            "         0.0     1.0000    1.0000    1.0000        41\n",
            "         1.0     0.9951    0.9556    0.9750      1285\n",
            "         2.0     1.0000    0.9946    0.9973       747\n",
            "         3.0     1.0000    1.0000    1.0000       213\n",
            "         4.0     0.9931    0.9908    0.9919       435\n",
            "         5.0     0.9910    1.0000    0.9955       657\n",
            "         6.0     1.0000    1.0000    1.0000        25\n",
            "         7.0     1.0000    1.0000    1.0000       430\n",
            "         8.0     0.7826    1.0000    0.8780        18\n",
            "         9.0     0.9865    0.9989    0.9926       875\n",
            "        10.0     0.9730    0.9937    0.9832      2210\n",
            "        11.0     0.9906    0.9869    0.9887       534\n",
            "        12.0     1.0000    0.9838    0.9918       185\n",
            "        13.0     1.0000    0.9939    0.9969      1139\n",
            "        14.0     0.9971    0.9971    0.9971       347\n",
            "        15.0     0.9518    0.9405    0.9461        84\n",
            "\n",
            "    accuracy                         0.9888      9225\n",
            "   macro avg     0.9788    0.9897    0.9834      9225\n",
            "weighted avg     0.9891    0.9888    0.9888      9225\n",
            "\n"
          ],
          "name": "stdout"
        }
      ]
    },
    {
      "cell_type": "markdown",
      "metadata": {
        "id": "qS5OAEZJ1qgP"
      },
      "source": [
        "## 6 添加注意力机制"
      ]
    },
    {
      "cell_type": "code",
      "metadata": {
        "id": "Z8S414RSUSVE"
      },
      "source": [
        "class ChannelAttention(nn.Module):\n",
        "    def __init__(self, in_planes, ratio=16):\n",
        "        super(ChannelAttention, self).__init__()\n",
        "        self.avg_pool = nn.AdaptiveAvgPool2d(1)\n",
        "        self.max_pool = nn.AdaptiveMaxPool2d(1)\n",
        "\n",
        "        self.fc1   = nn.Conv2d(in_planes, in_planes // 16, 1, bias=False)\n",
        "        self.relu1 = nn.ReLU()\n",
        "        self.fc2   = nn.Conv2d(in_planes // 16, in_planes, 1, bias=False)\n",
        "\n",
        "        self.sigmoid = nn.Sigmoid()\n",
        "\n",
        "    def forward(self, x):\n",
        "        avg_out = self.fc2(self.relu1(self.fc1(self.avg_pool(x))))\n",
        "        #print(avg_out.size())\n",
        "        max_out = self.fc2(self.relu1(self.fc1(self.max_pool(x))))\n",
        "        out = avg_out + max_out\n",
        "        return self.sigmoid(out)"
      ],
      "execution_count": null,
      "outputs": []
    },
    {
      "cell_type": "code",
      "metadata": {
        "id": "x9uLlBNwig5g"
      },
      "source": [
        "class SpatialAttention(nn.Module):\n",
        "    def __init__(self, kernel_size=7):\n",
        "        super(SpatialAttention, self).__init__()\n",
        "\n",
        "        assert kernel_size in (3, 7), 'kernel size must be 3 or 7'\n",
        "        padding = 3 if kernel_size == 7 else 1\n",
        "\n",
        "        self.conv1 = nn.Conv2d(2, 1, kernel_size, padding=padding, bias=False)\n",
        "        self.sigmoid = nn.Sigmoid()\n",
        "\n",
        "    def forward(self, x):\n",
        "        avg_out = torch.mean(x, dim=1, keepdim=True)\n",
        "        max_out, _ = torch.max(x, dim=1, keepdim=True)\n",
        "        x = torch.cat([avg_out, max_out], dim=1)\n",
        "        x = self.conv1(x)\n",
        "        return self.sigmoid(x)\n"
      ],
      "execution_count": null,
      "outputs": []
    },
    {
      "cell_type": "code",
      "metadata": {
        "id": "dbsqcLz_jkUb"
      },
      "source": [
        "class_num = 16\n",
        "\n",
        "class HybridSN_Attention(nn.Module):  \n",
        "  def __init__(self, in_channels=1, out_channels=class_num):\n",
        "    super(HybridSN_Attention, self).__init__()\n",
        "    self.conv3d_features = nn.Sequential(\n",
        "        nn.Conv3d(in_channels,out_channels=8,kernel_size=(7,3,3)),\n",
        "        nn.ReLU(),\n",
        "        nn.Conv3d(in_channels=8,out_channels=16,kernel_size=(5,3,3)),\n",
        "        nn.ReLU(),\n",
        "        nn.Conv3d(in_channels=16,out_channels=32,kernel_size=(3,3,3)),\n",
        "        nn.ReLU()\n",
        "    )\n",
        "\n",
        "    self.ca = ChannelAttention(32 * 18)\n",
        "    self.sa = SpatialAttention()\n",
        "\n",
        "    self.conv2d_features = nn.Sequential(\n",
        "        nn.Conv2d(in_channels=32 * 18, out_channels=64, kernel_size=(3,3)),\n",
        "        nn.ReLU()\n",
        "    )\n",
        "\n",
        "\n",
        "    self.classifier = nn.Sequential(\n",
        "        nn.Linear(64 * 17 * 17, 256),\n",
        "        nn.ReLU(),\n",
        "        nn.Dropout(p=0.4),\n",
        "        nn.Linear(256, 128),\n",
        "        nn.ReLU(),\n",
        "        nn.Dropout(p=0.4),\n",
        "        nn.Linear(128, 16)\n",
        "    )\n",
        " \n",
        "  def forward(self, x):\n",
        "    x = self.conv3d_features(x)\n",
        "    x = x.view(x.size()[0],x.size()[1]*x.size()[2],x.size()[3],x.size()[4])\n",
        "\n",
        "    x = self.ca(x) * x\n",
        "    x = self.sa(x) * x\n",
        "\n",
        "    x = self.conv2d_features(x)\n",
        "    x = x.view(x.size()[0],-1)\n",
        "    x = self.classifier(x)\n",
        "    return x"
      ],
      "execution_count": null,
      "outputs": []
    },
    {
      "cell_type": "code",
      "metadata": {
        "colab": {
          "base_uri": "https://localhost:8080/"
        },
        "id": "fS-kPjfamT6G",
        "outputId": "b85768ad-537b-4c98-d924-c27a5d3e532b"
      },
      "source": [
        "#随机输入，测试网络结构是否通\n",
        "x = torch.randn(1, 1, 30, 25, 25)\n",
        "net_attention = HybridSN_Attention()\n",
        "y = net_attention(x)\n",
        "print(y.shape)"
      ],
      "execution_count": null,
      "outputs": [
        {
          "output_type": "stream",
          "text": [
            "torch.Size([1, 16])\n"
          ],
          "name": "stdout"
        }
      ]
    },
    {
      "cell_type": "code",
      "metadata": {
        "colab": {
          "base_uri": "https://localhost:8080/"
        },
        "id": "KFE66NhNkupe",
        "outputId": "53e9a475-9c58-4d53-c8fb-d9580fe9af26"
      },
      "source": [
        "\n",
        "# 使用GPU训练，可以在菜单 \"代码执行工具\" -> \"更改运行时类型\" 里进行设置\n",
        "device = torch.device(\"cuda:0\" if torch.cuda.is_available() else \"cpu\")\n",
        "\n",
        "# 网络放到GPU上\n",
        "net_attention = HybridSN_Attention().to(device)\n",
        "# 训练\n",
        "net_attention,net_attention_current_loss_his,net_attention_current_Acc_his = train(net_attention)\n",
        "\n"
      ],
      "execution_count": null,
      "outputs": [
        {
          "output_type": "stream",
          "text": [
            "[Epoch: 1]   [loss avg: 20.7003]   [current loss: 2.5078]  [current acc: 0.0574]\n"
          ],
          "name": "stdout"
        },
        {
          "output_type": "stream",
          "text": [
            "/usr/local/lib/python3.6/dist-packages/sklearn/metrics/_classification.py:1272: UndefinedMetricWarning: Precision and F-score are ill-defined and being set to 0.0 in labels with no predicted samples. Use `zero_division` parameter to control this behavior.\n",
            "  _warn_prf(average, modifier, msg_start, len(result))\n"
          ],
          "name": "stderr"
        },
        {
          "output_type": "stream",
          "text": [
            "[Epoch: 2]   [loss avg: 20.0907]   [current loss: 2.4204]  [current acc: 0.0574]\n",
            "[Epoch: 3]   [loss avg: 19.6543]   [current loss: 2.3522]  [current acc: 0.0574]\n",
            "[Epoch: 4]   [loss avg: 19.2176]   [current loss: 2.0047]  [current acc: 0.0574]\n",
            "[Epoch: 5]   [loss avg: 18.7697]   [current loss: 2.1302]  [current acc: 0.0574]\n",
            "[Epoch: 6]   [loss avg: 18.3845]   [current loss: 2.1718]  [current acc: 0.0574]\n",
            "[Epoch: 7]   [loss avg: 17.9622]   [current loss: 1.8143]  [current acc: 0.1397]\n",
            "[Epoch: 8]   [loss avg: 17.4237]   [current loss: 1.6888]  [current acc: 0.4112]\n",
            "[Epoch: 9]   [loss avg: 16.7945]   [current loss: 1.2119]  [current acc: 0.5495]\n",
            "[Epoch: 10]   [loss avg: 16.1538]   [current loss: 1.2513]  [current acc: 0.6468]\n",
            "[Epoch: 11]   [loss avg: 15.4811]   [current loss: 1.0278]  [current acc: 0.7402]\n",
            "[Epoch: 12]   [loss avg: 14.8138]   [current loss: 1.1311]  [current acc: 0.7650]\n",
            "[Epoch: 13]   [loss avg: 14.1304]   [current loss: 0.7788]  [current acc: 0.8165]\n",
            "[Epoch: 14]   [loss avg: 13.4715]   [current loss: 0.6187]  [current acc: 0.8633]\n",
            "[Epoch: 15]   [loss avg: 12.8354]   [current loss: 0.4905]  [current acc: 0.8959]\n",
            "[Epoch: 16]   [loss avg: 12.2222]   [current loss: 0.2975]  [current acc: 0.9120]\n",
            "[Epoch: 17]   [loss avg: 11.6443]   [current loss: 0.3085]  [current acc: 0.9312]\n",
            "[Epoch: 18]   [loss avg: 11.1054]   [current loss: 0.2859]  [current acc: 0.9424]\n",
            "[Epoch: 19]   [loss avg: 10.6137]   [current loss: 0.1615]  [current acc: 0.9464]\n",
            "[Epoch: 20]   [loss avg: 10.1603]   [current loss: 0.1032]  [current acc: 0.9476]\n",
            "[Epoch: 21]   [loss avg: 9.7335]   [current loss: 0.1697]  [current acc: 0.9575]\n",
            "[Epoch: 22]   [loss avg: 9.3241]   [current loss: 0.0638]  [current acc: 0.9600]\n",
            "[Epoch: 23]   [loss avg: 8.9493]   [current loss: 0.0880]  [current acc: 0.9707]\n",
            "[Epoch: 24]   [loss avg: 8.5929]   [current loss: 0.0521]  [current acc: 0.9680]\n",
            "[Epoch: 25]   [loss avg: 8.2800]   [current loss: 0.1064]  [current acc: 0.9605]\n",
            "[Epoch: 26]   [loss avg: 7.9917]   [current loss: 0.0777]  [current acc: 0.9651]\n",
            "[Epoch: 27]   [loss avg: 7.7224]   [current loss: 0.0329]  [current acc: 0.9570]\n",
            "[Epoch: 28]   [loss avg: 7.4666]   [current loss: 0.0565]  [current acc: 0.9706]\n",
            "[Epoch: 29]   [loss avg: 7.2234]   [current loss: 0.0633]  [current acc: 0.9761]\n",
            "[Epoch: 30]   [loss avg: 6.9899]   [current loss: 0.0275]  [current acc: 0.9739]\n",
            "[Epoch: 31]   [loss avg: 6.7801]   [current loss: 0.0053]  [current acc: 0.9735]\n",
            "[Epoch: 32]   [loss avg: 6.5768]   [current loss: 0.0144]  [current acc: 0.9726]\n",
            "[Epoch: 33]   [loss avg: 6.3915]   [current loss: 0.0248]  [current acc: 0.9720]\n",
            "[Epoch: 34]   [loss avg: 6.2139]   [current loss: 0.0466]  [current acc: 0.9713]\n",
            "[Epoch: 35]   [loss avg: 6.0429]   [current loss: 0.0185]  [current acc: 0.9724]\n",
            "[Epoch: 36]   [loss avg: 5.8845]   [current loss: 0.0923]  [current acc: 0.9726]\n",
            "[Epoch: 37]   [loss avg: 5.7330]   [current loss: 0.0116]  [current acc: 0.9757]\n",
            "[Epoch: 38]   [loss avg: 5.5866]   [current loss: 0.0178]  [current acc: 0.9708]\n",
            "[Epoch: 39]   [loss avg: 5.4497]   [current loss: 0.0471]  [current acc: 0.9756]\n",
            "[Epoch: 40]   [loss avg: 5.3181]   [current loss: 0.0103]  [current acc: 0.9747]\n",
            "[Epoch: 41]   [loss avg: 5.1910]   [current loss: 0.0324]  [current acc: 0.9771]\n",
            "[Epoch: 42]   [loss avg: 5.0738]   [current loss: 0.0164]  [current acc: 0.9746]\n",
            "[Epoch: 43]   [loss avg: 4.9596]   [current loss: 0.0091]  [current acc: 0.9788]\n",
            "[Epoch: 44]   [loss avg: 4.8495]   [current loss: 0.0125]  [current acc: 0.9772]\n",
            "[Epoch: 45]   [loss avg: 4.7459]   [current loss: 0.0313]  [current acc: 0.9741]\n",
            "[Epoch: 46]   [loss avg: 4.6446]   [current loss: 0.0311]  [current acc: 0.9765]\n",
            "[Epoch: 47]   [loss avg: 4.5531]   [current loss: 0.0189]  [current acc: 0.9722]\n",
            "[Epoch: 48]   [loss avg: 4.4648]   [current loss: 0.0271]  [current acc: 0.9743]\n",
            "[Epoch: 49]   [loss avg: 4.3771]   [current loss: 0.0216]  [current acc: 0.9727]\n",
            "[Epoch: 50]   [loss avg: 4.2926]   [current loss: 0.0222]  [current acc: 0.9740]\n",
            "[Epoch: 51]   [loss avg: 4.2113]   [current loss: 0.0348]  [current acc: 0.9718]\n",
            "[Epoch: 52]   [loss avg: 4.1346]   [current loss: 0.0414]  [current acc: 0.9758]\n",
            "[Epoch: 53]   [loss avg: 4.0598]   [current loss: 0.0377]  [current acc: 0.9757]\n",
            "[Epoch: 54]   [loss avg: 3.9875]   [current loss: 0.0035]  [current acc: 0.9736]\n",
            "[Epoch: 55]   [loss avg: 3.9165]   [current loss: 0.0068]  [current acc: 0.9728]\n",
            "[Epoch: 56]   [loss avg: 3.8480]   [current loss: 0.0137]  [current acc: 0.9749]\n",
            "[Epoch: 57]   [loss avg: 3.7822]   [current loss: 0.0192]  [current acc: 0.9747]\n",
            "[Epoch: 58]   [loss avg: 3.7181]   [current loss: 0.0003]  [current acc: 0.9755]\n",
            "[Epoch: 59]   [loss avg: 3.6571]   [current loss: 0.0136]  [current acc: 0.9788]\n",
            "[Epoch: 60]   [loss avg: 3.5976]   [current loss: 0.0218]  [current acc: 0.9768]\n",
            "[Epoch: 61]   [loss avg: 3.5416]   [current loss: 0.0274]  [current acc: 0.9744]\n",
            "[Epoch: 62]   [loss avg: 3.4878]   [current loss: 0.0322]  [current acc: 0.9704]\n",
            "[Epoch: 63]   [loss avg: 3.4370]   [current loss: 0.0112]  [current acc: 0.9695]\n",
            "[Epoch: 64]   [loss avg: 3.3873]   [current loss: 0.0058]  [current acc: 0.9723]\n",
            "[Epoch: 65]   [loss avg: 3.3380]   [current loss: 0.0498]  [current acc: 0.9749]\n",
            "[Epoch: 66]   [loss avg: 3.2916]   [current loss: 0.0659]  [current acc: 0.9738]\n",
            "[Epoch: 67]   [loss avg: 3.2453]   [current loss: 0.0142]  [current acc: 0.9674]\n",
            "[Epoch: 68]   [loss avg: 3.2006]   [current loss: 0.0112]  [current acc: 0.9754]\n",
            "[Epoch: 69]   [loss avg: 3.1561]   [current loss: 0.0075]  [current acc: 0.9789]\n",
            "[Epoch: 70]   [loss avg: 3.1117]   [current loss: 0.0030]  [current acc: 0.9743]\n",
            "[Epoch: 71]   [loss avg: 3.0696]   [current loss: 0.0257]  [current acc: 0.9744]\n",
            "[Epoch: 72]   [loss avg: 3.0316]   [current loss: 0.0118]  [current acc: 0.9744]\n",
            "[Epoch: 73]   [loss avg: 2.9959]   [current loss: 0.0281]  [current acc: 0.9742]\n",
            "[Epoch: 74]   [loss avg: 2.9569]   [current loss: 0.0115]  [current acc: 0.9697]\n",
            "[Epoch: 75]   [loss avg: 2.9186]   [current loss: 0.0052]  [current acc: 0.9709]\n",
            "[Epoch: 76]   [loss avg: 2.8827]   [current loss: 0.0120]  [current acc: 0.9763]\n",
            "[Epoch: 77]   [loss avg: 2.8459]   [current loss: 0.0101]  [current acc: 0.9790]\n",
            "[Epoch: 78]   [loss avg: 2.8104]   [current loss: 0.0106]  [current acc: 0.9807]\n",
            "[Epoch: 79]   [loss avg: 2.7754]   [current loss: 0.0168]  [current acc: 0.9786]\n",
            "[Epoch: 80]   [loss avg: 2.7417]   [current loss: 0.0226]  [current acc: 0.9791]\n",
            "[Epoch: 81]   [loss avg: 2.7091]   [current loss: 0.0025]  [current acc: 0.9790]\n",
            "[Epoch: 82]   [loss avg: 2.6768]   [current loss: 0.0009]  [current acc: 0.9779]\n",
            "[Epoch: 83]   [loss avg: 2.6452]   [current loss: 0.0007]  [current acc: 0.9779]\n",
            "[Epoch: 84]   [loss avg: 2.6144]   [current loss: 0.0003]  [current acc: 0.9767]\n",
            "[Epoch: 85]   [loss avg: 2.5842]   [current loss: 0.0148]  [current acc: 0.9759]\n",
            "[Epoch: 86]   [loss avg: 2.5553]   [current loss: 0.0035]  [current acc: 0.9768]\n",
            "[Epoch: 87]   [loss avg: 2.5269]   [current loss: 0.0022]  [current acc: 0.9701]\n",
            "[Epoch: 88]   [loss avg: 2.5000]   [current loss: 0.0370]  [current acc: 0.9754]\n",
            "[Epoch: 89]   [loss avg: 2.4733]   [current loss: 0.0256]  [current acc: 0.9715]\n",
            "[Epoch: 90]   [loss avg: 2.4471]   [current loss: 0.0167]  [current acc: 0.9751]\n",
            "[Epoch: 91]   [loss avg: 2.4219]   [current loss: 0.0214]  [current acc: 0.9793]\n",
            "[Epoch: 92]   [loss avg: 2.3971]   [current loss: 0.0069]  [current acc: 0.9790]\n",
            "[Epoch: 93]   [loss avg: 2.3730]   [current loss: 0.0229]  [current acc: 0.9725]\n",
            "[Epoch: 94]   [loss avg: 2.3501]   [current loss: 0.0027]  [current acc: 0.9750]\n",
            "[Epoch: 95]   [loss avg: 2.3295]   [current loss: 0.0048]  [current acc: 0.9696]\n",
            "[Epoch: 96]   [loss avg: 2.3084]   [current loss: 0.0372]  [current acc: 0.9738]\n",
            "[Epoch: 97]   [loss avg: 2.2858]   [current loss: 0.0041]  [current acc: 0.9735]\n",
            "[Epoch: 98]   [loss avg: 2.2641]   [current loss: 0.0017]  [current acc: 0.9782]\n",
            "[Epoch: 99]   [loss avg: 2.2418]   [current loss: 0.0011]  [current acc: 0.9780]\n",
            "[Epoch: 100]   [loss avg: 2.2199]   [current loss: 0.0032]  [current acc: 0.9770]\n",
            "Finished Training\n",
            "Best Acc:0.9807\n"
          ],
          "name": "stdout"
        }
      ]
    },
    {
      "cell_type": "code",
      "metadata": {
        "colab": {
          "base_uri": "https://localhost:8080/",
          "height": 295
        },
        "id": "OzLTxYqk_EQw",
        "outputId": "fa46daea-7b62-4882-8d12-1e7b53e6f8e6"
      },
      "source": [
        "show_plot(net_attention_current_loss_his,'HybridSN_Attention train loss plot','Epoch','Loss')"
      ],
      "execution_count": null,
      "outputs": [
        {
          "output_type": "display_data",
          "data": {
            "image/png": "[encoded data removed]",
            "text/plain": [
              "<Figure size 432x288 with 1 Axes>"
            ]
          },
          "metadata": {
            "tags": [],
            "needs_background": "light"
          }
        }
      ]
    },
    {
      "cell_type": "code",
      "metadata": {
        "colab": {
          "base_uri": "https://localhost:8080/",
          "height": 295
        },
        "id": "AK3s14Ox_Evw",
        "outputId": "befb878b-e06b-4cd4-9dc8-a4c8d3077e5c"
      },
      "source": [
        "show_plot(net_attention_current_Acc_his,'HybridSN_Attention Accuracy plot','Epoch','Loss')"
      ],
      "execution_count": null,
      "outputs": [
        {
          "output_type": "display_data",
          "data": {
            "image/png": "[encoded data removed]",
            "text/plain": [
              "<Figure size 432x288 with 1 Axes>"
            ]
          },
          "metadata": {
            "tags": [],
            "needs_background": "light"
          }
        }
      ]
    },
    {
      "cell_type": "code",
      "metadata": {
        "colab": {
          "base_uri": "https://localhost:8080/"
        },
        "id": "axf3_VUblUCu",
        "outputId": "a9d8f75c-e2d6-4d51-efb6-53febb73525d"
      },
      "source": [
        "net_attention.eval()\n",
        "# 最佳模型测试结果\n",
        "count = 0\n",
        "# 模型测试\n",
        "for inputs, _ in test_loader:\n",
        "    inputs = inputs.to(device)\n",
        "    outputs = net_attention(inputs)\n",
        "    outputs = np.argmax(outputs.detach().cpu().numpy(), axis=1)\n",
        "    if count == 0:\n",
        "        y_pred_test =  outputs\n",
        "        count = 1\n",
        "    else:\n",
        "        y_pred_test = np.concatenate( (y_pred_test, outputs) )\n",
        "\n",
        "# 生成分类报告\n",
        "classification = classification_report(ytest, y_pred_test, digits=4)\n",
        "print(classification)"
      ],
      "execution_count": null,
      "outputs": [
        {
          "output_type": "stream",
          "text": [
            "              precision    recall  f1-score   support\n",
            "\n",
            "         0.0     0.8667    0.9512    0.9070        41\n",
            "         1.0     0.9776    0.9494    0.9633      1285\n",
            "         2.0     0.9827    0.9906    0.9867       747\n",
            "         3.0     0.9953    1.0000    0.9977       213\n",
            "         4.0     0.9953    0.9839    0.9896       435\n",
            "         5.0     0.9909    0.9970    0.9939       657\n",
            "         6.0     1.0000    1.0000    1.0000        25\n",
            "         7.0     1.0000    0.9837    0.9918       430\n",
            "         8.0     1.0000    0.9444    0.9714        18\n",
            "         9.0     0.9787    0.9954    0.9870       875\n",
            "        10.0     0.9678    0.9923    0.9799      2210\n",
            "        11.0     0.9696    0.9569    0.9632       534\n",
            "        12.0     0.9888    0.9568    0.9725       185\n",
            "        13.0     0.9930    0.9939    0.9934      1139\n",
            "        14.0     0.9882    0.9625    0.9752       347\n",
            "        15.0     0.9855    0.8095    0.8889        84\n",
            "\n",
            "    accuracy                         0.9806      9225\n",
            "   macro avg     0.9800    0.9667    0.9726      9225\n",
            "weighted avg     0.9807    0.9806    0.9805      9225\n",
            "\n"
          ],
          "name": "stdout"
        }
      ]
    },
    {
      "cell_type": "markdown",
      "metadata": {
        "id": "ImrRSRUk3FRL"
      },
      "source": [
        "## 7 BN+注意力机制"
      ]
    },
    {
      "cell_type": "code",
      "metadata": {
        "id": "u1dh03b8n2t6"
      },
      "source": [
        "class_num = 16\n",
        "\n",
        "class HybridSN_BN_Attention(nn.Module):  \n",
        "  def __init__(self, in_channels=1, out_channels=class_num):\n",
        "    super(HybridSN_BN_Attention, self).__init__()\n",
        "    self.conv3d_features = nn.Sequential(\n",
        "        nn.Conv3d(in_channels,out_channels=8,kernel_size=(7,3,3)),\n",
        "        nn.BatchNorm3d(8),\n",
        "        nn.ReLU(),\n",
        "        nn.Conv3d(in_channels=8,out_channels=16,kernel_size=(5,3,3)),\n",
        "        nn.BatchNorm3d(16),\n",
        "        nn.ReLU(),\n",
        "        nn.Conv3d(in_channels=16,out_channels=32,kernel_size=(3,3,3)),\n",
        "        nn.BatchNorm3d(32),\n",
        "        nn.ReLU()\n",
        "    )\n",
        "\n",
        "    self.ca = ChannelAttention(32 * 18)\n",
        "    self.sa = SpatialAttention()\n",
        "\n",
        "    self.conv2d_features = nn.Sequential(\n",
        "        nn.Conv2d(in_channels=32 * 18, out_channels=64, kernel_size=(3,3)),\n",
        "        nn.BatchNorm2d(64),\n",
        "        nn.ReLU()\n",
        "    )\n",
        "\n",
        "\n",
        "    self.classifier = nn.Sequential(\n",
        "        nn.Linear(64 * 17 * 17, 256),\n",
        "        nn.ReLU(),\n",
        "        nn.Dropout(p=0.4),\n",
        "        nn.Linear(256, 128),\n",
        "        nn.ReLU(),\n",
        "        nn.Dropout(p=0.4),\n",
        "        nn.Linear(128, 16)\n",
        "    )\n",
        " \n",
        "  def forward(self, x):\n",
        "    x = self.conv3d_features(x)\n",
        "    x = x.view(x.size()[0],x.size()[1]*x.size()[2],x.size()[3],x.size()[4])\n",
        "\n",
        "    x = self.ca(x) * x\n",
        "    x = self.sa(x) * x\n",
        "\n",
        "    x = self.conv2d_features(x)\n",
        "    x = x.view(x.size()[0],-1)\n",
        "    x = self.classifier(x)\n",
        "    return x"
      ],
      "execution_count": null,
      "outputs": []
    },
    {
      "cell_type": "code",
      "metadata": {
        "colab": {
          "base_uri": "https://localhost:8080/"
        },
        "id": "0jHReUEvAQkg",
        "outputId": "650518b6-e6b2-4ecc-dcc0-e26a25ad04d3"
      },
      "source": [
        "# 随机输入，测试网络结构是否通\n",
        "x = torch.randn(4, 1, 30, 25, 25)\n",
        "net_bn_attention = HybridSN_BN_Attention()\n",
        "y = net_bn_attention(x)\n",
        "print(y.shape)"
      ],
      "execution_count": null,
      "outputs": [
        {
          "output_type": "stream",
          "text": [
            "torch.Size([4, 16])\n"
          ],
          "name": "stdout"
        }
      ]
    },
    {
      "cell_type": "code",
      "metadata": {
        "colab": {
          "base_uri": "https://localhost:8080/"
        },
        "id": "jTD2XqpVAWRH",
        "outputId": "9f3f8d47-07b3-4f9b-d382-b0b71c53bd4c"
      },
      "source": [
        "\n",
        "# 使用GPU训练，可以在菜单 \"代码执行工具\" -> \"更改运行时类型\" 里进行设置\n",
        "device = torch.device(\"cuda:0\" if torch.cuda.is_available() else \"cpu\")\n",
        "\n",
        "# 网络放到GPU上\n",
        "net_bn_attention = HybridSN_BN_Attention().to(device)\n",
        "# 训练\n",
        "\n",
        "net_bn_attention,net_bn_attention_current_loss_his,net_bn_attention_current_Acc_his = train(net_bn_attention)\n",
        "\n"
      ],
      "execution_count": null,
      "outputs": [
        {
          "output_type": "stream",
          "text": [
            "[Epoch: 1]   [loss avg: 21.3497]   [current loss: 2.1137]  [current acc: 0.0574]\n"
          ],
          "name": "stdout"
        },
        {
          "output_type": "stream",
          "text": [
            "/usr/local/lib/python3.6/dist-packages/sklearn/metrics/_classification.py:1272: UndefinedMetricWarning: Precision and F-score are ill-defined and being set to 0.0 in labels with no predicted samples. Use `zero_division` parameter to control this behavior.\n",
            "  _warn_prf(average, modifier, msg_start, len(result))\n"
          ],
          "name": "stderr"
        },
        {
          "output_type": "stream",
          "text": [
            "[Epoch: 2]   [loss avg: 17.5394]   [current loss: 1.4277]  [current acc: 0.0574]\n",
            "[Epoch: 3]   [loss avg: 14.9844]   [current loss: 0.9536]  [current acc: 0.3976]\n",
            "[Epoch: 4]   [loss avg: 12.9381]   [current loss: 0.6661]  [current acc: 0.6563]\n",
            "[Epoch: 5]   [loss avg: 11.3838]   [current loss: 0.4718]  [current acc: 0.8436]\n",
            "[Epoch: 6]   [loss avg: 10.1558]   [current loss: 0.3502]  [current acc: 0.8597]\n",
            "[Epoch: 7]   [loss avg: 9.1436]   [current loss: 0.3139]  [current acc: 0.9234]\n",
            "[Epoch: 8]   [loss avg: 8.2712]   [current loss: 0.1933]  [current acc: 0.9435]\n",
            "[Epoch: 9]   [loss avg: 7.5358]   [current loss: 0.1894]  [current acc: 0.9411]\n",
            "[Epoch: 10]   [loss avg: 6.9015]   [current loss: 0.0686]  [current acc: 0.9584]\n",
            "[Epoch: 11]   [loss avg: 6.3736]   [current loss: 0.0816]  [current acc: 0.9665]\n",
            "[Epoch: 12]   [loss avg: 5.9093]   [current loss: 0.0797]  [current acc: 0.9739]\n",
            "[Epoch: 13]   [loss avg: 5.5296]   [current loss: 0.1165]  [current acc: 0.9562]\n",
            "[Epoch: 14]   [loss avg: 5.1892]   [current loss: 0.0927]  [current acc: 0.9449]\n",
            "[Epoch: 15]   [loss avg: 4.8945]   [current loss: 0.0941]  [current acc: 0.9749]\n",
            "[Epoch: 16]   [loss avg: 4.6351]   [current loss: 0.0474]  [current acc: 0.9750]\n",
            "[Epoch: 17]   [loss avg: 4.3889]   [current loss: 0.0631]  [current acc: 0.9796]\n",
            "[Epoch: 18]   [loss avg: 4.1802]   [current loss: 0.0587]  [current acc: 0.9839]\n",
            "[Epoch: 19]   [loss avg: 3.9868]   [current loss: 0.0574]  [current acc: 0.9856]\n",
            "[Epoch: 20]   [loss avg: 3.8086]   [current loss: 0.1020]  [current acc: 0.9793]\n",
            "[Epoch: 21]   [loss avg: 3.6507]   [current loss: 0.0267]  [current acc: 0.9804]\n",
            "[Epoch: 22]   [loss avg: 3.4996]   [current loss: 0.0386]  [current acc: 0.9852]\n",
            "[Epoch: 23]   [loss avg: 3.3587]   [current loss: 0.0295]  [current acc: 0.9856]\n",
            "[Epoch: 24]   [loss avg: 3.2340]   [current loss: 0.1105]  [current acc: 0.9820]\n",
            "[Epoch: 25]   [loss avg: 3.1187]   [current loss: 0.0515]  [current acc: 0.9834]\n",
            "[Epoch: 26]   [loss avg: 3.0123]   [current loss: 0.0472]  [current acc: 0.9845]\n",
            "[Epoch: 27]   [loss avg: 2.9084]   [current loss: 0.0225]  [current acc: 0.9861]\n",
            "[Epoch: 28]   [loss avg: 2.8119]   [current loss: 0.0318]  [current acc: 0.9855]\n",
            "[Epoch: 29]   [loss avg: 2.7230]   [current loss: 0.0147]  [current acc: 0.9864]\n",
            "[Epoch: 30]   [loss avg: 2.6403]   [current loss: 0.0145]  [current acc: 0.9848]\n",
            "[Epoch: 31]   [loss avg: 2.5637]   [current loss: 0.0584]  [current acc: 0.9849]\n",
            "[Epoch: 32]   [loss avg: 2.4891]   [current loss: 0.0432]  [current acc: 0.9845]\n",
            "[Epoch: 33]   [loss avg: 2.4212]   [current loss: 0.0160]  [current acc: 0.9851]\n",
            "[Epoch: 34]   [loss avg: 2.3593]   [current loss: 0.0251]  [current acc: 0.9858]\n",
            "[Epoch: 35]   [loss avg: 2.2957]   [current loss: 0.0120]  [current acc: 0.9837]\n",
            "[Epoch: 36]   [loss avg: 2.2404]   [current loss: 0.0231]  [current acc: 0.9823]\n",
            "[Epoch: 37]   [loss avg: 2.1857]   [current loss: 0.0065]  [current acc: 0.9855]\n",
            "[Epoch: 38]   [loss avg: 2.1321]   [current loss: 0.0140]  [current acc: 0.9868]\n",
            "[Epoch: 39]   [loss avg: 2.0816]   [current loss: 0.0189]  [current acc: 0.9876]\n",
            "[Epoch: 40]   [loss avg: 2.0364]   [current loss: 0.0023]  [current acc: 0.9861]\n",
            "[Epoch: 41]   [loss avg: 1.9920]   [current loss: 0.0332]  [current acc: 0.9861]\n",
            "[Epoch: 42]   [loss avg: 1.9488]   [current loss: 0.0146]  [current acc: 0.9860]\n",
            "[Epoch: 43]   [loss avg: 1.9072]   [current loss: 0.0376]  [current acc: 0.9821]\n",
            "[Epoch: 44]   [loss avg: 1.8720]   [current loss: 0.1016]  [current acc: 0.9800]\n",
            "[Epoch: 45]   [loss avg: 1.8357]   [current loss: 0.0193]  [current acc: 0.9767]\n",
            "[Epoch: 46]   [loss avg: 1.8003]   [current loss: 0.0208]  [current acc: 0.9816]\n",
            "[Epoch: 47]   [loss avg: 1.7637]   [current loss: 0.0099]  [current acc: 0.9868]\n",
            "[Epoch: 48]   [loss avg: 1.7304]   [current loss: 0.0101]  [current acc: 0.9838]\n",
            "[Epoch: 49]   [loss avg: 1.6958]   [current loss: 0.0058]  [current acc: 0.9838]\n",
            "[Epoch: 50]   [loss avg: 1.6635]   [current loss: 0.0120]  [current acc: 0.9878]\n",
            "[Epoch: 51]   [loss avg: 1.6328]   [current loss: 0.0607]  [current acc: 0.9868]\n",
            "[Epoch: 52]   [loss avg: 1.6032]   [current loss: 0.0159]  [current acc: 0.9863]\n",
            "[Epoch: 53]   [loss avg: 1.5744]   [current loss: 0.0064]  [current acc: 0.9837]\n",
            "[Epoch: 54]   [loss avg: 1.5475]   [current loss: 0.0088]  [current acc: 0.9828]\n",
            "[Epoch: 55]   [loss avg: 1.5211]   [current loss: 0.0033]  [current acc: 0.9827]\n",
            "[Epoch: 56]   [loss avg: 1.4973]   [current loss: 0.0068]  [current acc: 0.9856]\n",
            "[Epoch: 57]   [loss avg: 1.4805]   [current loss: 0.0836]  [current acc: 0.9805]\n",
            "[Epoch: 58]   [loss avg: 1.4604]   [current loss: 0.0169]  [current acc: 0.9603]\n",
            "[Epoch: 59]   [loss avg: 1.4373]   [current loss: 0.0075]  [current acc: 0.9419]\n",
            "[Epoch: 60]   [loss avg: 1.4179]   [current loss: 0.0534]  [current acc: 0.9731]\n",
            "[Epoch: 61]   [loss avg: 1.4025]   [current loss: 0.0349]  [current acc: 0.9826]\n",
            "[Epoch: 62]   [loss avg: 1.3835]   [current loss: 0.0307]  [current acc: 0.9796]\n",
            "[Epoch: 63]   [loss avg: 1.3657]   [current loss: 0.0058]  [current acc: 0.9847]\n",
            "[Epoch: 64]   [loss avg: 1.3490]   [current loss: 0.0175]  [current acc: 0.9710]\n",
            "[Epoch: 65]   [loss avg: 1.3316]   [current loss: 0.0176]  [current acc: 0.9747]\n",
            "[Epoch: 66]   [loss avg: 1.3151]   [current loss: 0.0148]  [current acc: 0.9816]\n",
            "[Epoch: 67]   [loss avg: 1.2983]   [current loss: 0.0427]  [current acc: 0.9839]\n",
            "[Epoch: 68]   [loss avg: 1.2802]   [current loss: 0.0019]  [current acc: 0.9831]\n",
            "[Epoch: 69]   [loss avg: 1.2641]   [current loss: 0.0138]  [current acc: 0.9824]\n",
            "[Epoch: 70]   [loss avg: 1.2482]   [current loss: 0.0474]  [current acc: 0.9835]\n",
            "[Epoch: 71]   [loss avg: 1.2322]   [current loss: 0.0034]  [current acc: 0.9836]\n",
            "[Epoch: 72]   [loss avg: 1.2171]   [current loss: 0.0129]  [current acc: 0.9853]\n",
            "[Epoch: 73]   [loss avg: 1.2013]   [current loss: 0.0200]  [current acc: 0.9866]\n",
            "[Epoch: 74]   [loss avg: 1.1866]   [current loss: 0.0407]  [current acc: 0.9863]\n",
            "[Epoch: 75]   [loss avg: 1.1721]   [current loss: 0.0139]  [current acc: 0.9836]\n",
            "[Epoch: 76]   [loss avg: 1.1587]   [current loss: 0.0024]  [current acc: 0.9804]\n",
            "[Epoch: 77]   [loss avg: 1.1457]   [current loss: 0.0010]  [current acc: 0.9835]\n",
            "[Epoch: 78]   [loss avg: 1.1327]   [current loss: 0.0061]  [current acc: 0.9869]\n",
            "[Epoch: 79]   [loss avg: 1.1200]   [current loss: 0.0012]  [current acc: 0.9856]\n",
            "[Epoch: 80]   [loss avg: 1.1077]   [current loss: 0.0235]  [current acc: 0.9847]\n",
            "[Epoch: 81]   [loss avg: 1.0964]   [current loss: 0.0119]  [current acc: 0.9885]\n",
            "[Epoch: 82]   [loss avg: 1.0844]   [current loss: 0.0014]  [current acc: 0.9868]\n",
            "[Epoch: 83]   [loss avg: 1.0731]   [current loss: 0.0103]  [current acc: 0.9809]\n",
            "[Epoch: 84]   [loss avg: 1.0620]   [current loss: 0.0007]  [current acc: 0.9689]\n",
            "[Epoch: 85]   [loss avg: 1.0521]   [current loss: 0.0307]  [current acc: 0.9801]\n",
            "[Epoch: 86]   [loss avg: 1.0414]   [current loss: 0.0820]  [current acc: 0.9787]\n",
            "[Epoch: 87]   [loss avg: 1.0329]   [current loss: 0.0047]  [current acc: 0.9843]\n",
            "[Epoch: 88]   [loss avg: 1.0219]   [current loss: 0.0112]  [current acc: 0.9822]\n",
            "[Epoch: 89]   [loss avg: 1.0115]   [current loss: 0.0141]  [current acc: 0.9854]\n",
            "[Epoch: 90]   [loss avg: 1.0011]   [current loss: 0.0157]  [current acc: 0.9855]\n",
            "[Epoch: 91]   [loss avg: 0.9913]   [current loss: 0.0017]  [current acc: 0.9858]\n",
            "[Epoch: 92]   [loss avg: 0.9818]   [current loss: 0.0008]  [current acc: 0.9871]\n",
            "[Epoch: 93]   [loss avg: 0.9729]   [current loss: 0.0062]  [current acc: 0.9881]\n",
            "[Epoch: 94]   [loss avg: 0.9644]   [current loss: 0.1203]  [current acc: 0.9856]\n",
            "[Epoch: 95]   [loss avg: 0.9572]   [current loss: 0.0193]  [current acc: 0.9830]\n",
            "[Epoch: 96]   [loss avg: 0.9492]   [current loss: 0.0347]  [current acc: 0.9820]\n",
            "[Epoch: 97]   [loss avg: 0.9400]   [current loss: 0.0058]  [current acc: 0.9832]\n",
            "[Epoch: 98]   [loss avg: 0.9316]   [current loss: 0.0035]  [current acc: 0.9835]\n",
            "[Epoch: 99]   [loss avg: 0.9241]   [current loss: 0.0436]  [current acc: 0.9862]\n",
            "[Epoch: 100]   [loss avg: 0.9166]   [current loss: 0.0251]  [current acc: 0.9839]\n",
            "Finished Training\n",
            "Best Acc:0.9885\n"
          ],
          "name": "stdout"
        }
      ]
    },
    {
      "cell_type": "code",
      "metadata": {
        "colab": {
          "base_uri": "https://localhost:8080/",
          "height": 295
        },
        "id": "azECuwW4B6V6",
        "outputId": "51c1ecfc-0fee-4d3c-8ca0-633f43982a48"
      },
      "source": [
        "show_plot(net_bn_attention_current_loss_his,'HybridSN_BN_Attention train loss plot','Epoch','Loss')"
      ],
      "execution_count": null,
      "outputs": [
        {
          "output_type": "display_data",
          "data": {
            "image/png": "[encoded data removed]",
            "text/plain": [
              "<Figure size 432x288 with 1 Axes>"
            ]
          },
          "metadata": {
            "tags": [],
            "needs_background": "light"
          }
        }
      ]
    },
    {
      "cell_type": "code",
      "metadata": {
        "colab": {
          "base_uri": "https://localhost:8080/",
          "height": 295
        },
        "id": "8IUe6aFVAnGS",
        "outputId": "708721f5-d277-4b0f-fdad-e2a4b44c08b2"
      },
      "source": [
        "show_plot(net_bn_attention_current_Acc_his,'HybridSN_BN_Attention Accuracy plot','Epoch','Loss')"
      ],
      "execution_count": null,
      "outputs": [
        {
          "output_type": "display_data",
          "data": {
            "image/png": "[encoded data removed]",
            "text/plain": [
              "<Figure size 432x288 with 1 Axes>"
            ]
          },
          "metadata": {
            "tags": [],
            "needs_background": "light"
          }
        }
      ]
    },
    {
      "cell_type": "code",
      "metadata": {
        "colab": {
          "base_uri": "https://localhost:8080/"
        },
        "id": "yL3SHlPzB_fm",
        "outputId": "a073acb9-f3a6-46db-b51d-6ce438d171ce"
      },
      "source": [
        "net_bn_attention.eval()\n",
        "# 最佳模型测试结果\n",
        "count = 0\n",
        "# 模型测试\n",
        "for inputs, _ in test_loader:\n",
        "    inputs = inputs.to(device)\n",
        "    outputs = net_bn_attention(inputs)\n",
        "    outputs = np.argmax(outputs.detach().cpu().numpy(), axis=1)\n",
        "    if count == 0:\n",
        "        y_pred_test =  outputs\n",
        "        count = 1\n",
        "    else:\n",
        "        y_pred_test = np.concatenate( (y_pred_test, outputs) )\n",
        "\n",
        "# 生成分类报告\n",
        "classification = classification_report(ytest, y_pred_test, digits=4)\n",
        "print(classification)"
      ],
      "execution_count": null,
      "outputs": [
        {
          "output_type": "stream",
          "text": [
            "              precision    recall  f1-score   support\n",
            "\n",
            "         0.0     1.0000    0.9756    0.9877        41\n",
            "         1.0     0.9952    0.9634    0.9790      1285\n",
            "         2.0     0.9906    0.9906    0.9906       747\n",
            "         3.0     1.0000    0.9812    0.9905       213\n",
            "         4.0     0.9954    0.9885    0.9919       435\n",
            "         5.0     0.9865    1.0000    0.9932       657\n",
            "         6.0     1.0000    1.0000    1.0000        25\n",
            "         7.0     1.0000    1.0000    1.0000       430\n",
            "         8.0     1.0000    0.8333    0.9091        18\n",
            "         9.0     0.9820    0.9966    0.9892       875\n",
            "        10.0     0.9799    0.9932    0.9865      2210\n",
            "        11.0     0.9962    0.9775    0.9868       534\n",
            "        12.0     0.9787    0.9946    0.9866       185\n",
            "        13.0     0.9956    0.9991    0.9974      1139\n",
            "        14.0     0.9913    0.9827    0.9870       347\n",
            "        15.0     0.9111    0.9762    0.9425        84\n",
            "\n",
            "    accuracy                         0.9884      9225\n",
            "   macro avg     0.9877    0.9783    0.9824      9225\n",
            "weighted avg     0.9885    0.9884    0.9884      9225\n",
            "\n"
          ],
          "name": "stdout"
        }
      ]
    },
    {
      "cell_type": "code",
      "metadata": {
        "id": "mT6d4xLGCR5K"
      },
      "source": [],
      "execution_count": null,
      "outputs": []
    },
    {
      "cell_type": "markdown",
      "metadata": {
        "id": "_shH5LNqTAe8"
      },
      "source": [
        "## 8 所有结果比较"
      ]
    },
    {
      "cell_type": "markdown",
      "metadata": {
        "id": "Oc_8K28EToqu"
      },
      "source": []
    },
    {
      "cell_type": "code",
      "metadata": {
        "colab": {
          "base_uri": "https://localhost:8080/",
          "height": 295
        },
        "id": "G-O7vVejTCHg",
        "outputId": "99263b5c-95c2-4000-bdd4-ee39a7941903"
      },
      "source": [
        "import numpy as np\n",
        "import matplotlib.pyplot as plt\n",
        " \n",
        "x = np.array(list(range(100)))\n",
        "fig,ax = plt.subplots()\n",
        "ax.plot(x,current_loss_his,label='HybridSN')\n",
        "ax.plot(x,net_bn_current_loss_his,label='HybridSN_BN')\n",
        "ax.plot(x,net_attention_current_loss_his,label='HybridSN_Attention')\n",
        "ax.plot(x,net_bn_attention_current_loss_his,label='HybridSN_BN_Attention')\n",
        "ax.set_xlabel('Epoch')\n",
        "ax.set_ylabel('Loss')\n",
        "ax.set_title('Loss plot')\n",
        "ax.legend()\n",
        "plt.show()\n"
      ],
      "execution_count": null,
      "outputs": [
        {
          "output_type": "display_data",
          "data": {
            "image/png": "[encoded data removed]",
            "text/plain": [
              "<Figure size 432x288 with 1 Axes>"
            ]
          },
          "metadata": {
            "tags": [],
            "needs_background": "light"
          }
        }
      ]
    },
    {
      "cell_type": "code",
      "metadata": {
        "colab": {
          "base_uri": "https://localhost:8080/",
          "height": 295
        },
        "id": "itsXxnf-TWvA",
        "outputId": "e4c2c8d5-8452-4ac4-bc0e-1e0f99a825bb"
      },
      "source": [
        "\n",
        "x = np.array(list(range(100)))\n",
        "fig,ax = plt.subplots()\n",
        "ax.plot(x,current_Acc_his,label='HybridSN')\n",
        "ax.plot(x,net_bn_current_Acc_his,label='HybridSN_BN')\n",
        "ax.plot(x,net_attention_current_Acc_his,label='HybridSN_Attention')\n",
        "ax.plot(x,net_bn_attention_current_Acc_his,label='HybridSN_BN_Attention')\n",
        "ax.set_xlabel('Epoch')\n",
        "ax.set_ylabel('Accuracy')\n",
        "ax.set_title('Accuracy plot')\n",
        "ax.legend()\n",
        "plt.show()\n"
      ],
      "execution_count": null,
      "outputs": [
        {
          "output_type": "display_data",
          "data": {
            "image/png": "[encoded data removed]",
            "text/plain": [
              "<Figure size 432x288 with 1 Axes>"
            ]
          },
          "metadata": {
            "tags": [],
            "needs_background": "light"
          }
        }
      ]
    },
    {
      "cell_type": "code",
      "metadata": {
        "id": "1NikICW4VphQ"
      },
      "source": [],
      "execution_count": null,
      "outputs": []
    },
    {
      "cell_type": "markdown",
      "metadata": {
        "id": "jb1hiGuCybmm"
      },
      "source": [
        "## 9 备用函数"
      ]
    },
    {
      "cell_type": "markdown",
      "metadata": {
        "id": "x3bwc5UiyhDG"
      },
      "source": [
        "下面是用于计算各个类准确率，显示结果的备用函数，以供参考"
      ]
    },
    {
      "cell_type": "code",
      "metadata": {
        "id": "uyQqjOS_1k35"
      },
      "source": [
        "from operator import truediv\n",
        "\n",
        "def AA_andEachClassAccuracy(confusion_matrix):\n",
        "    counter = confusion_matrix.shape[0]\n",
        "    list_diag = np.diag(confusion_matrix)\n",
        "    list_raw_sum = np.sum(confusion_matrix, axis=1)\n",
        "    each_acc = np.nan_to_num(truediv(list_diag, list_raw_sum))\n",
        "    average_acc = np.mean(each_acc)\n",
        "    return each_acc, average_acc\n",
        "\n",
        "\n",
        "def reports (test_loader, y_test, name):\n",
        "    count = 0\n",
        "    # 模型测试\n",
        "    for inputs, _ in test_loader:\n",
        "        inputs = inputs.to(device)\n",
        "        outputs = net(inputs)\n",
        "        outputs = np.argmax(outputs.detach().cpu().numpy(), axis=1)\n",
        "        if count == 0:\n",
        "            y_pred =  outputs\n",
        "            count = 1\n",
        "        else:\n",
        "            y_pred = np.concatenate( (y_pred, outputs) )\n",
        "\n",
        "    if name == 'IP':\n",
        "        target_names = ['Alfalfa', 'Corn-notill', 'Corn-mintill', 'Corn'\n",
        "                        ,'Grass-pasture', 'Grass-trees', 'Grass-pasture-mowed', \n",
        "                        'Hay-windrowed', 'Oats', 'Soybean-notill', 'Soybean-mintill',\n",
        "                        'Soybean-clean', 'Wheat', 'Woods', 'Buildings-Grass-Trees-Drives',\n",
        "                        'Stone-Steel-Towers']\n",
        "    elif name == 'SA':\n",
        "        target_names = ['Brocoli_green_weeds_1','Brocoli_green_weeds_2','Fallow','Fallow_rough_plow','Fallow_smooth',\n",
        "                        'Stubble','Celery','Grapes_untrained','Soil_vinyard_develop','Corn_senesced_green_weeds',\n",
        "                        'Lettuce_romaine_4wk','Lettuce_romaine_5wk','Lettuce_romaine_6wk','Lettuce_romaine_7wk',\n",
        "                        'Vinyard_untrained','Vinyard_vertical_trellis']\n",
        "    elif name == 'PU':\n",
        "        target_names = ['Asphalt','Meadows','Gravel','Trees', 'Painted metal sheets','Bare Soil','Bitumen',\n",
        "                        'Self-Blocking Bricks','Shadows']\n",
        "    \n",
        "    classification = classification_report(y_test, y_pred, target_names=target_names)\n",
        "    oa = accuracy_score(y_test, y_pred)\n",
        "    confusion = confusion_matrix(y_test, y_pred)\n",
        "    each_acc, aa = AA_andEachClassAccuracy(confusion)\n",
        "    kappa = cohen_kappa_score(y_test, y_pred)\n",
        "    \n",
        "    return classification, confusion, oa*100, each_acc*100, aa*100, kappa*100"
      ],
      "execution_count": null,
      "outputs": []
    },
    {
      "cell_type": "code",
      "metadata": {
        "id": "ZACfVbnyyiIw"
      },
      "source": [],
      "execution_count": null,
      "outputs": []
    },
    {
      "cell_type": "markdown",
      "metadata": {
        "id": "_DfV3275yjmg"
      },
      "source": [
        "检测结果写在文件里："
      ]
    },
    {
      "cell_type": "code",
      "metadata": {
        "id": "3-M5CJnqyldB"
      },
      "source": [
        "classification, confusion, oa, each_acc, aa, kappa = reports(test_loader, ytest, 'IP')\n",
        "classification = str(classification)\n",
        "confusion = str(confusion)\n",
        "file_name = \"classification_report.txt\"\n",
        "\n",
        "with open(file_name, 'w') as x_file:\n",
        "    x_file.write('\\n')\n",
        "    x_file.write('{} Kappa accuracy (%)'.format(kappa))\n",
        "    x_file.write('\\n')\n",
        "    x_file.write('{} Overall accuracy (%)'.format(oa))\n",
        "    x_file.write('\\n')\n",
        "    x_file.write('{} Average accuracy (%)'.format(aa))\n",
        "    x_file.write('\\n')\n",
        "    x_file.write('\\n')\n",
        "    x_file.write('{}'.format(classification))\n",
        "    x_file.write('\\n')\n",
        "    x_file.write('{}'.format(confusion))"
      ],
      "execution_count": null,
      "outputs": []
    },
    {
      "cell_type": "markdown",
      "metadata": {
        "id": "Tpf1fdo_ypy-"
      },
      "source": [
        "下面代码用于显示分类结果："
      ]
    },
    {
      "cell_type": "code",
      "metadata": {
        "id": "cOpBKh1ryoV-"
      },
      "source": [
        "# load the original image\n",
        "X = sio.loadmat('Indian_pines_corrected.mat')['indian_pines_corrected']\n",
        "y = sio.loadmat('Indian_pines_gt.mat')['indian_pines_gt']\n",
        "\n",
        "height = y.shape[0]\n",
        "width = y.shape[1]\n",
        "\n",
        "X = applyPCA(X, numComponents= pca_components)\n",
        "X = padWithZeros(X, patch_size//2)\n",
        "\n",
        "# 逐像素预测类别\n",
        "outputs = np.zeros((height,width))\n",
        "for i in range(height):\n",
        "    for j in range(width):\n",
        "        if int(y[i,j]) == 0:\n",
        "            continue\n",
        "        else :\n",
        "            image_patch = X[i:i+patch_size, j:j+patch_size, :]\n",
        "            image_patch = image_patch.reshape(1,image_patch.shape[0],image_patch.shape[1], image_patch.shape[2], 1)\n",
        "            X_test_image = torch.FloatTensor(image_patch.transpose(0, 4, 3, 1, 2)).to(device)                                   \n",
        "            prediction = net(X_test_image)\n",
        "            prediction = np.argmax(prediction.detach().cpu().numpy(), axis=1)\n",
        "            outputs[i][j] = prediction+1\n",
        "    if i % 20 == 0:\n",
        "        print('... ... row ', i, ' handling ... ...')"
      ],
      "execution_count": null,
      "outputs": []
    },
    {
      "cell_type": "code",
      "metadata": {
        "id": "DJSpuPTwythl"
      },
      "source": [
        "predict_image = spectral.imshow(classes = outputs.astype(int),figsize =(5,5))"
      ],
      "execution_count": null,
      "outputs": []
    }
  ]
}